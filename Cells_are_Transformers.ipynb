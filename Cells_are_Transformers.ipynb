{
  "nbformat": 4,
  "nbformat_minor": 0,
  "metadata": {
    "colab": {
      "name": "Cells are Transformers",
      "provenance": [],
      "collapsed_sections": [],
      "authorship_tag": "ABX9TyME3fewFX4HY438t39gbow/",
      "include_colab_link": true
    },
    "kernelspec": {
      "name": "python3",
      "display_name": "Python 3"
    },
    "accelerator": "GPU"
  },
  "cells": [
    {
      "cell_type": "markdown",
      "metadata": {
        "id": "view-in-github",
        "colab_type": "text"
      },
      "source": [
        "<a href=\"https://colab.research.google.com/github/Mikcl/CellTransformer/blob/main/Cells_are_Transformers.ipynb\" target=\"_parent\"><img src=\"https://colab.research.google.com/assets/colab-badge.svg\" alt=\"Open In Colab\"/></a>"
      ]
    },
    {
      "cell_type": "code",
      "metadata": {
        "id": "g305-z3wlXTQ",
        "colab": {
          "base_uri": "https://localhost:8080/"
        },
        "outputId": "efb92147-ecb4-40ca-ce91-9e458aab0cfb"
      },
      "source": [
        "!pip install linear-attention-transformer\n",
        "!pip install einops"
      ],
      "execution_count": 42,
      "outputs": [
        {
          "output_type": "stream",
          "text": [
            "Requirement already satisfied: linear-attention-transformer in /usr/local/lib/python3.6/dist-packages (0.15.3)\n",
            "Requirement already satisfied: axial-positional-embedding in /usr/local/lib/python3.6/dist-packages (from linear-attention-transformer) (0.2.1)\n",
            "Requirement already satisfied: torch in /usr/local/lib/python3.6/dist-packages (from linear-attention-transformer) (1.7.0+cu101)\n",
            "Requirement already satisfied: local-attention in /usr/local/lib/python3.6/dist-packages (from linear-attention-transformer) (1.2.2)\n",
            "Requirement already satisfied: product-key-memory>=0.1.5 in /usr/local/lib/python3.6/dist-packages (from linear-attention-transformer) (0.1.10)\n",
            "Requirement already satisfied: linformer>=0.1.0 in /usr/local/lib/python3.6/dist-packages (from linear-attention-transformer) (0.2.1)\n",
            "Requirement already satisfied: numpy in /usr/local/lib/python3.6/dist-packages (from torch->linear-attention-transformer) (1.19.5)\n",
            "Requirement already satisfied: future in /usr/local/lib/python3.6/dist-packages (from torch->linear-attention-transformer) (0.16.0)\n",
            "Requirement already satisfied: typing-extensions in /usr/local/lib/python3.6/dist-packages (from torch->linear-attention-transformer) (3.7.4.3)\n",
            "Requirement already satisfied: dataclasses in /usr/local/lib/python3.6/dist-packages (from torch->linear-attention-transformer) (0.8)\n",
            "Requirement already satisfied: einops in /usr/local/lib/python3.6/dist-packages (0.3.0)\n"
          ],
          "name": "stdout"
        }
      ]
    },
    {
      "cell_type": "code",
      "metadata": {
        "id": "Awl8-4fPlAZ8"
      },
      "source": [
        "import os\n",
        "import base64\n",
        "import numpy as np\n",
        "import torch\n",
        "from torch.utils.data import DataLoader, Dataset\n",
        "from torch import nn\n",
        "from IPython.display import Image, HTML, clear_output\n",
        "import tqdm\n",
        "\n",
        "import io\n",
        "import PIL.Image, PIL.ImageDraw\n",
        "import base64\n",
        "import zipfile\n",
        "import json\n",
        "import requests\n",
        "import matplotlib.pylab as plt\n",
        "import glob\n",
        "\n",
        "import torch.optim as optim\n",
        "\n",
        "from linear_attention_transformer import LinearAttentionTransformerLM\n",
        "from linear_attention_transformer.autoregressive_wrapper import AutoregressiveWrapper\n",
        "\n",
        "from einops import rearrange\n",
        "\n",
        "clear_output()"
      ],
      "execution_count": 43,
      "outputs": []
    },
    {
      "cell_type": "code",
      "metadata": {
        "id": "90lPXBTtlaph"
      },
      "source": [
        "#@title Cellular Automata Parameters\n",
        "CHANNEL_N = 4        # Number of CA state channels\n",
        "TARGET_PADDING = 16   # Number of pixels used to pad the target image border\n",
        "TARGET_SIZE = 40\n",
        "\n",
        "# 👁, 🦎\n",
        "TARGET_EMOJI = \"🦎\" #@param {type:\"string\"}\n",
        "\n",
        "EXPERIMENT_TYPE = \"Growing\" #@param [\"Growing\"] # \"Persistent\", \"Regenerating\"\n",
        "EXPERIMENT_MAP = {\"Growing\":0, \"Persistent\":1, \"Regenerating\":2}\n",
        "EXPERIMENT_N = EXPERIMENT_MAP[EXPERIMENT_TYPE]\n",
        "\n",
        "USE_PATTERN_POOL = [0, 1, 1][EXPERIMENT_N]\n",
        "DAMAGE_N = [0, 0, 3][EXPERIMENT_N]  # Number of patterns to damage in a batch"
      ],
      "execution_count": 44,
      "outputs": []
    },
    {
      "cell_type": "code",
      "metadata": {
        "id": "qTMuZlP6m4Z6"
      },
      "source": [
        "#@title Transformer Token Details\n",
        "TOKEN_OFFSET = 2\n",
        "NUM_TOKENS = 257 + TOKEN_OFFSET\n",
        "ENC_SEQ_LEN = 9 * CHANNEL_N\n",
        "DEC_SEQ_LEN = ENC_SEQ_LEN + CHANNEL_N"
      ],
      "execution_count": 45,
      "outputs": []
    },
    {
      "cell_type": "code",
      "metadata": {
        "id": "iBCiVj1WmnAE"
      },
      "source": [
        "#@title Tranformer Hyperparameters \n",
        "\n",
        "EPOCHS = 10 #int(1e3)\n",
        "BATCH_SIZE = 16\n",
        "LEARNING_RATE = 1e-4\n",
        "# GENERATE_EVERY  = 100   # For visual results during training. . "
      ],
      "execution_count": 46,
      "outputs": []
    },
    {
      "cell_type": "code",
      "metadata": {
        "id": "vXPB73jkn1cB"
      },
      "source": [
        "#@title Helpers \n",
        "\n",
        "def to_rgba(x):\n",
        "  return x[:,:4,:,:]\n",
        "\n",
        "def to_rgb(x):\n",
        "  return x[:,:3,:,:]\n",
        "\n",
        "def make_seed(size, n=1):\n",
        "  x = np.zeros([n, size, size, CHANNEL_N], np.float32)\n",
        "  x[:, size//2, size//2, 3:] = 1.0\n",
        "  return x\n",
        "\n",
        "def plot_loss(loss_log):\n",
        "  plt.figure(figsize=(10, 4))\n",
        "  plt.title('Loss history (log10)')\n",
        "  plt.plot(np.log10(loss_log), '.', alpha=0.1)\n",
        "  plt.show()\n",
        "\n",
        "def np2pil(a):\n",
        "  if a.dtype in [np.float32, np.float64]:\n",
        "    a = np.uint8(np.clip(a, 0, 1)*255)\n",
        "  return PIL.Image.fromarray(a)\n",
        "\n",
        "def imwrite(f, a, fmt=None):\n",
        "  a = np.asarray(a)\n",
        "  if isinstance(f, str):\n",
        "    fmt = f.rsplit('.', 1)[-1].lower()\n",
        "    if fmt == 'jpg':\n",
        "      fmt = 'jpeg'\n",
        "    f = open(f, 'wb')\n",
        "  np2pil(a).save(f, fmt, quality=95)\n",
        "\n",
        "def imencode(a, fmt='jpeg'):\n",
        "  a = np.asarray(a)\n",
        "  if len(a.shape) == 3 and a.shape[-1] == 4:\n",
        "    fmt = 'png'\n",
        "  f = io.BytesIO()\n",
        "  imwrite(f, a, fmt)\n",
        "  return f.getvalue()\n",
        "\n",
        "def im2url(a, fmt='jpeg'):\n",
        "  encoded = imencode(a, fmt)\n",
        "  base64_byte_string = base64.b64encode(encoded).decode('ascii')\n",
        "  return 'data:image/' + fmt.upper() + ';base64,' + base64_byte_string\n"
      ],
      "execution_count": 47,
      "outputs": []
    },
    {
      "cell_type": "code",
      "metadata": {
        "id": "fup4z40WpClo"
      },
      "source": [
        "#@title Load image utils. \n",
        "\n",
        "# Returns h,w,c image where c=RGBA\n",
        "def load_image(url, max_size=TARGET_SIZE):\n",
        "  r = requests.get(url)\n",
        "  img = PIL.Image.open(io.BytesIO(r.content))\n",
        "  img.thumbnail((max_size, max_size), PIL.Image.ANTIALIAS)\n",
        "  img = np.float32(img)\n",
        "  return img\n",
        "\n",
        "def load_emoji(emoji):\n",
        "  code = hex(ord(emoji))[2:].lower()\n",
        "  url = 'https://github.com/googlefonts/noto-emoji/raw/master/png/128/emoji_u%s.png'%code\n",
        "  return load_image(url)"
      ],
      "execution_count": 48,
      "outputs": []
    },
    {
      "cell_type": "code",
      "metadata": {
        "id": "_rKmByqYpcE6"
      },
      "source": [
        "#@title To Device\n",
        "if torch.cuda.is_available():  \n",
        "  dev = \"cuda:0\" \n",
        "else:  \n",
        "  dev = \"cpu\"\n",
        "device = torch.device(dev)  "
      ],
      "execution_count": 49,
      "outputs": []
    },
    {
      "cell_type": "code",
      "metadata": {
        "id": "dpswGT_xsezf"
      },
      "source": [
        "#@title Load Emoji\n",
        "target_img = load_emoji(TARGET_EMOJI)"
      ],
      "execution_count": 50,
      "outputs": []
    },
    {
      "cell_type": "code",
      "metadata": {
        "id": "zK7C4qZRsGnt"
      },
      "source": [
        "p = TARGET_PADDING\n",
        "target_img_tensor = torch.from_numpy(target_img)\n",
        "\n",
        "# (72,72,4)\n",
        "pad_target = torch.nn.functional.pad(target_img_tensor, pad=(0,0,p,p,p,p), mode='constant', value=0)\n",
        "h, w = pad_target.shape[:2]\n",
        "\n",
        "# (CHANNEL_N, 72, 72)\n",
        "seed = np.zeros([CHANNEL_N, h, w], np.float32)\n",
        "seed[3:, h//2, w//2] = 256\n",
        "\n",
        "pad_target = pad_target.permute(2, 0, 1)"
      ],
      "execution_count": 51,
      "outputs": []
    },
    {
      "cell_type": "code",
      "metadata": {
        "id": "YM2KOzGus8Hv"
      },
      "source": [
        "pad_target = pad_target.to(device)\n",
        "\n",
        "def loss_f(x):\n",
        "    x = x[:,:4,:,:]\n",
        "    return torch.mean(torch.square(x-pad_target), [-1,-2,-3])"
      ],
      "execution_count": 52,
      "outputs": []
    },
    {
      "cell_type": "code",
      "metadata": {
        "id": "FP3syDMHy-Jv"
      },
      "source": [
        "#@title Masking Utils\n",
        "IMAGE_BATCH_SIZE = 1 #number of images to concurrently train on. \n",
        "LIVE_MIN = 0\n",
        "\n",
        "# Applied on default/non-tokenized values\n",
        "def get_living_mask(x):\n",
        "  alpha = x[:, 3:4, :, :]\n",
        "  return torch.nn.functional.max_pool2d(input=alpha, kernel_size=3, stride=1, padding=1) > LIVE_MIN\n",
        "\n",
        "# 3d tensor as boolean. \n",
        "alive_target_mask = get_living_mask(pad_target[None,...])\n",
        "\n",
        "def get_dilatied_mask(x):\n",
        "  # Returns x dilated mask as FloatType \n",
        "  output = x.sum(-3) > 0\n",
        "  output = output.type(torch.FloatTensor)\n",
        "  kernel = torch.tensor([[1,1,1],[1,1,1],[1,1,1]]).type(torch.FloatTensor)\n",
        "  dilated = torch.nn.functional.conv2d(output[None,...], kernel[None, None, ...].expand(1, -1, -1, -1), groups=1, padding=1)\n",
        "  return dilated\n",
        "\n",
        "def get_living_target(x):\n",
        "  living_mask = get_living_mask(x)\n",
        "\n",
        "  # print('SUM OF 1s', torch.sum(torch.flatten(living_mask)))\n",
        "  living_target_mask = (living_mask & alive_target_mask)\n",
        "  living_target = pad_target[None,...] * living_target_mask.float()\n",
        "  living_target = living_target[0]\n",
        "  return living_target\n",
        "\n",
        "def mask_target(mask):\n",
        "  '''\n",
        "    mask - tensor: 2D - Float\n",
        "\n",
        "    returns - tensor: 4D - T\n",
        "  '''\n",
        "  # returns 4d tensor. \n",
        "  target_batch = pad_target[None, ...] * mask\n",
        "  return target_batch\n"
      ],
      "execution_count": 53,
      "outputs": []
    },
    {
      "cell_type": "code",
      "metadata": {
        "id": "T1fglUUQteEd"
      },
      "source": [
        "#@title Define Model\n",
        "\n",
        "def tokenize(x):\n",
        "  return (x + 2).long()\n",
        "\n",
        "def detokenize(x):\n",
        "  return (x - 2).long()\n",
        "\n",
        "def percieve(x):\n",
        "  # x - 4d tensor - N, C, H, W\n",
        "  _,_,h,w = x.shape\n",
        "  padded_x = torch.nn.functional.pad(x, pad=(1,1,1,1), mode='constant', value=0)\n",
        "  stacked_image = torch.cat(\n",
        "      [padded_x[:,:,i:i+h, j:j+w]  for i in range(3) for j in range(3)]\n",
        "      ,1\n",
        "  )\n",
        "  return stacked_image\n",
        "\n",
        "\n",
        "# instantiate model\n",
        "enc = LinearAttentionTransformerLM(\n",
        "    num_tokens = NUM_TOKENS,\n",
        "    dim = 512,\n",
        "    heads = 8,\n",
        "    depth = 1,\n",
        "    max_seq_len = ENC_SEQ_LEN,\n",
        "    one_kv_head = True,\n",
        "    return_embeddings = True\n",
        ").to(device)\n",
        "\n",
        "dec = LinearAttentionTransformerLM(\n",
        "    num_tokens = NUM_TOKENS,\n",
        "    dim = 512,\n",
        "    heads = 8,\n",
        "    depth = 3,\n",
        "    causal = True,\n",
        "    blindspot_size = 2,             # a small blindspot greatly saves on memory\n",
        "    max_seq_len = DEC_SEQ_LEN,\n",
        "    one_kv_head = True,\n",
        "    receives_context = True\n",
        ").to(device)\n",
        "\n",
        "dec = AutoregressiveWrapper(dec)\n",
        "\n",
        "# optimizer\n",
        "\n",
        "optim = torch.optim.Adam([*enc.parameters(), *dec.parameters()], lr=LEARNING_RATE)\n"
      ],
      "execution_count": 54,
      "outputs": []
    },
    {
      "cell_type": "code",
      "metadata": {
        "id": "OIz10RkPL14v"
      },
      "source": [
        "#@title Dataset Generation Helpers. \n",
        "SENTENCES = int(alive_target_mask.shape[2] * alive_target_mask.shape[3])\n",
        "\n",
        "class CellTraining(Dataset):\n",
        "    def __init__(self, X, Y):\n",
        "        self.src = X\n",
        "        self.tgt = Y\n",
        "        assert X.shape[0] == Y.shape[0], 'Dataset X and Y not of same length'\n",
        "        # assert X.shape[0] == SENTENCES, 'Dataset does not match image'\n",
        "        b = X.shape[0]\n",
        "        self.SRC_MASK = torch.ones(b, ENC_SEQ_LEN).bool()\n",
        "        self.TGT_MASK = torch.ones(b, DEC_SEQ_LEN).bool()\n",
        "\n",
        "        self.length = b\n",
        "\n",
        "    def __len__(self):\n",
        "        return self.length\n",
        "\n",
        "    def __getitem__(self, idx):\n",
        "        src = self.src[idx]\n",
        "        tgt = self.tgt[idx]\n",
        "        src_mask = self.SRC_MASK[idx]\n",
        "        tgt_mask = self.TGT_MASK[idx] \n",
        "        return src.to(device), tgt.to(device), src_mask.to(device), tgt_mask.to(device)\n",
        "\n",
        "\n",
        "class CellEvaluating(Dataset):\n",
        "    def __init__(self, X):\n",
        "        self.src = X\n",
        "        b = X.shape[0]\n",
        "        self.SRC_MASK = torch.ones(b, ENC_SEQ_LEN).bool()\n",
        "        self.length = b\n",
        "\n",
        "    def __len__(self):\n",
        "        return self.length\n",
        "\n",
        "    def __getitem__(self, idx):\n",
        "        src = self.src[idx]\n",
        "        src_mask = self.SRC_MASK[idx]\n",
        "        return src.to(device), src_mask.to(device)\n",
        "\n",
        "\n",
        "\n",
        "def get_start_tokens(number_of_sentences):\n",
        "    return torch.ones((number_of_sentences, 1)).long().to(device)\n",
        "\n",
        "def image_to_sentences(x):\n",
        "  '''\n",
        "    ## maps a 3D tensor of shape (c, h, w) to a 2D tensor of (h*w, c)\n",
        "    these are known as sentences or 'patches' of size one\n",
        "  '''\n",
        "  return rearrange(x,'c (h p1) (w p2) -> (h w) (p1 p2 c)', p1 = 1, p2 = 1)\n",
        "\n",
        "\n",
        "def sentences_to_image(x, height, width):\n",
        "  '''\n",
        "    ## maps a 2D tesnor of shape (h*w, c) to image/3D tensor shape of (c, h, w)\n",
        "    inverse of image_to_sentence\n",
        "    height: int - image dimension\n",
        "    width: int - image dimension\n",
        "  '''\n",
        "  return rearrange(x, '(h w) (p1 p2 c) -> c (h p1) (w p2)', p1 =1, p2 =1, h=height, w=width)\n",
        "\n",
        "\n",
        "def visualize_batched(x):\n",
        "  x = x[:,:4,:,:].cpu().numpy()\n",
        "  vis1 = np.hstack(np.transpose(x, (0,2,3,1)))\n",
        "  plt.imshow(vis1)\n",
        "  plt.show()\n"
      ],
      "execution_count": 55,
      "outputs": []
    },
    {
      "cell_type": "code",
      "metadata": {
        "id": "eF1yyIPht6vl",
        "colab": {
          "base_uri": "https://localhost:8080/",
          "height": 1000
        },
        "outputId": "4175628f-2714-4a15-d59d-0ed677b4c482"
      },
      "source": [
        "#@title Training { vertical-output: true}\n",
        "\n",
        "# TODO add the Zero training input output? --> check NUM_TOKENS amount\n",
        "\n",
        "# training\n",
        "log_loss = []\n",
        "UPDATE_STEPS = 30\n",
        "EVAL_SENTENCE_BATCH = 32\n",
        "\n",
        "# X - 4d tensor - maybe move this\n",
        "def get_input_values(x):\n",
        "  step_output_float_mask = get_dilatied_mask(x).to(device)\n",
        "\n",
        "  # X values\n",
        "  percieved_images = percieve(x)\n",
        "  X_img = percieved_images[0]\n",
        "\n",
        "  X_seq_un_clean = image_to_sentences(X_img)\n",
        "  # TODO - insert checker as torch.tensor(X_seq_un_clean).bool().float().sum(dim=-1)\n",
        "  valid_instances = (torch.square(X_seq_un_clean).sum(dim=-1) != 0).nonzero().flatten()\n",
        "\n",
        "  X_seq_cleaned = X_seq_un_clean[valid_instances]\n",
        "\n",
        "  X_seq = tokenize(X_seq_cleaned)\n",
        "\n",
        "  return step_output_float_mask, valid_instances, X_seq\n",
        "\n",
        "\n",
        "# 1 epoch. training from seed to 'full' state.\n",
        "for i in tqdm.tqdm(range(EPOCHS), mininterval=10., desc='training'):\n",
        "    x0 = np.repeat(seed[None,...], IMAGE_BATCH_SIZE, 0)\n",
        "    x0 = torch.Tensor(x0).to(device)\n",
        "    x = x0\n",
        "    \n",
        "    for step in range(UPDATE_STEPS):\n",
        "      print(f'epoch {i}, step {step}')\n",
        "\n",
        "      step_output_float_mask, valid_instances, X_seq = get_input_values(x)\n",
        "\n",
        "      # target \n",
        "      y_target = mask_target(step_output_float_mask.bool().float())[0]\n",
        "\n",
        "      # Prefix\n",
        "      prefix = get_start_tokens(X_seq.shape[0])\n",
        "\n",
        "      # Y valyes from target\n",
        "      y_seq_un_cleaned = image_to_sentences(y_target)\n",
        "      y_seq_cleaned = y_seq_un_cleaned[valid_instances]\n",
        "      y_seq = tokenize(y_seq_cleaned)\n",
        "      Y_seq = torch.cat([prefix, X_seq, y_seq], 1)\n",
        "\n",
        "      # Derive dataset for training.\n",
        "      dataset = CellTraining(X_seq, Y_seq)\n",
        "\n",
        "      data_loader = DataLoader(dataset=dataset, batch_size=32)\n",
        "            \n",
        "      enc.train(), dec.train()\n",
        "      for batch_i , (src, tgt, src_mask, tgt_mask) in enumerate(data_loader):\n",
        "        context = enc(src, input_mask = src_mask)\n",
        "        loss = dec(tgt, context = context, input_mask = tgt_mask, context_mask = src_mask, return_loss = True)\n",
        "        loss.backward()\n",
        "        # print(f'epoch-{i}-step-{step}: {loss.item()}')\n",
        "        optim.step()\n",
        "        optim.zero_grad()\n",
        "\n",
        "      # update what x is (the target dilated & alive tgt mask)\n",
        "      x = mask_target(step_output_float_mask.bool().float()).to(device)\n",
        "\n",
        "    # Generate:\n",
        "    # TODO - define what x is? x[0] ? \n",
        "    # Make an evaluation function which returns values?\n",
        "    enc.eval(), dec.eval()\n",
        "    # x = x0.detach().clone()\n",
        "    for step in range(10):\n",
        "      output_seq = image_to_sentences(x[0]).long()\n",
        "\n",
        "      step_output_float_mask, instances, X_seq = get_input_values(x)\n",
        "\n",
        "      dataset = CellEvaluating(X_seq)\n",
        "      data_loader = DataLoader(dataset=dataset, batch_size=EVAL_SENTENCE_BATCH, shuffle=False)\n",
        "      \n",
        "      generated= torch.empty(size=(X_seq.shape[0], CHANNEL_N)).long().to(device)\n",
        "\n",
        "      for batch_i , (src, src_mask) in enumerate(data_loader):\n",
        "        start_tokens = (torch.ones((src.shape[0], 1)) * 1).long().to(device)\n",
        "\n",
        "        context = enc(src)\n",
        "        # Are these params correct\n",
        "        sample = dec.generate(start_tokens, CHANNEL_N , context = context)\n",
        "        predicted_cells = sample[:, - CHANNEL_N: ]\n",
        "        s = batch_i*EVAL_SENTENCE_BATCH\n",
        "        # print(predicted_cells)\n",
        "        generated[torch.arange(s,s+predicted_cells.shape[0])] = predicted_cells\n",
        "\n",
        "      output_seq[instances] = detokenize(generated)\n",
        "      output_img = sentences_to_image(output_seq, x.shape[2], x.shape[3])\n",
        "      x = output_img[None,...]\n",
        "    visualize_batched(x.detach().clone())\n",
        "\n",
        "      \n",
        "    # TODO - produced x - calculate l2 loss and add to log loss"
      ],
      "execution_count": 56,
      "outputs": [
        {
          "output_type": "stream",
          "text": [
            "\rtraining:   0%|          | 0/10 [00:00<?, ?it/s]"
          ],
          "name": "stderr"
        },
        {
          "output_type": "stream",
          "text": [
            "epoch 0, step 0\n",
            "epoch 0, step 1\n",
            "epoch 0, step 2\n",
            "epoch 0, step 3\n",
            "epoch 0, step 4\n",
            "epoch 0, step 5\n",
            "epoch 0, step 6\n",
            "epoch 0, step 7\n",
            "epoch 0, step 8\n",
            "epoch 0, step 9\n",
            "epoch 0, step 10\n",
            "epoch 0, step 11\n",
            "epoch 0, step 12\n",
            "epoch 0, step 13\n",
            "epoch 0, step 14\n",
            "epoch 0, step 15\n",
            "epoch 0, step 16\n",
            "epoch 0, step 17\n",
            "epoch 0, step 18\n",
            "epoch 0, step 19\n",
            "epoch 0, step 20\n",
            "epoch 0, step 21\n",
            "epoch 0, step 22\n",
            "epoch 0, step 23\n",
            "epoch 0, step 24\n",
            "epoch 0, step 25\n",
            "epoch 0, step 26\n",
            "epoch 0, step 27\n",
            "epoch 0, step 28\n",
            "epoch 0, step 29\n"
          ],
          "name": "stdout"
        },
        {
          "output_type": "display_data",
          "data": {
            "image/png": "[encoded data removed]",
            "text/plain": [
              "<Figure size 432x288 with 1 Axes>"
            ]
          },
          "metadata": {
            "tags": [],
            "needs_background": "light"
          }
        },
        {
          "output_type": "stream",
          "text": [
            "\rtraining:  10%|█         | 1/10 [00:53<08:01, 53.49s/it]"
          ],
          "name": "stderr"
        },
        {
          "output_type": "stream",
          "text": [
            "epoch 1, step 0\n",
            "epoch 1, step 1\n",
            "epoch 1, step 2\n",
            "epoch 1, step 3\n",
            "epoch 1, step 4\n",
            "epoch 1, step 5\n",
            "epoch 1, step 6\n",
            "epoch 1, step 7\n",
            "epoch 1, step 8\n",
            "epoch 1, step 9\n",
            "epoch 1, step 10\n",
            "epoch 1, step 11\n",
            "epoch 1, step 12\n",
            "epoch 1, step 13\n",
            "epoch 1, step 14\n",
            "epoch 1, step 15\n",
            "epoch 1, step 16\n",
            "epoch 1, step 17\n",
            "epoch 1, step 18\n",
            "epoch 1, step 19\n",
            "epoch 1, step 20\n",
            "epoch 1, step 21\n",
            "epoch 1, step 22\n",
            "epoch 1, step 23\n",
            "epoch 1, step 24\n",
            "epoch 1, step 25\n",
            "epoch 1, step 26\n",
            "epoch 1, step 27\n",
            "epoch 1, step 28\n",
            "epoch 1, step 29\n"
          ],
          "name": "stdout"
        },
        {
          "output_type": "display_data",
          "data": {
            "image/png": "[encoded data removed]",
            "text/plain": [
              "<Figure size 432x288 with 1 Axes>"
            ]
          },
          "metadata": {
            "tags": [],
            "needs_background": "light"
          }
        },
        {
          "output_type": "stream",
          "text": [
            "\rtraining:  20%|██        | 2/10 [01:45<07:04, 53.04s/it]"
          ],
          "name": "stderr"
        },
        {
          "output_type": "stream",
          "text": [
            "epoch 2, step 0\n",
            "epoch 2, step 1\n",
            "epoch 2, step 2\n",
            "epoch 2, step 3\n",
            "epoch 2, step 4\n",
            "epoch 2, step 5\n",
            "epoch 2, step 6\n",
            "epoch 2, step 7\n",
            "epoch 2, step 8\n",
            "epoch 2, step 9\n",
            "epoch 2, step 10\n",
            "epoch 2, step 11\n",
            "epoch 2, step 12\n",
            "epoch 2, step 13\n",
            "epoch 2, step 14\n",
            "epoch 2, step 15\n",
            "epoch 2, step 16\n",
            "epoch 2, step 17\n",
            "epoch 2, step 18\n",
            "epoch 2, step 19\n",
            "epoch 2, step 20\n",
            "epoch 2, step 21\n",
            "epoch 2, step 22\n",
            "epoch 2, step 23\n",
            "epoch 2, step 24\n",
            "epoch 2, step 25\n",
            "epoch 2, step 26\n",
            "epoch 2, step 27\n",
            "epoch 2, step 28\n",
            "epoch 2, step 29\n"
          ],
          "name": "stdout"
        },
        {
          "output_type": "display_data",
          "data": {
            "image/png": "[encoded data removed]",
            "text/plain": [
              "<Figure size 432x288 with 1 Axes>"
            ]
          },
          "metadata": {
            "tags": [],
            "needs_background": "light"
          }
        },
        {
          "output_type": "stream",
          "text": [
            "\rtraining:  30%|███       | 3/10 [02:38<06:10, 52.91s/it]"
          ],
          "name": "stderr"
        },
        {
          "output_type": "stream",
          "text": [
            "epoch 3, step 0\n",
            "epoch 3, step 1\n",
            "epoch 3, step 2\n",
            "epoch 3, step 3\n",
            "epoch 3, step 4\n",
            "epoch 3, step 5\n",
            "epoch 3, step 6\n",
            "epoch 3, step 7\n",
            "epoch 3, step 8\n",
            "epoch 3, step 9\n",
            "epoch 3, step 10\n",
            "epoch 3, step 11\n",
            "epoch 3, step 12\n",
            "epoch 3, step 13\n",
            "epoch 3, step 14\n",
            "epoch 3, step 15\n",
            "epoch 3, step 16\n",
            "epoch 3, step 17\n",
            "epoch 3, step 18\n",
            "epoch 3, step 19\n",
            "epoch 3, step 20\n",
            "epoch 3, step 21\n",
            "epoch 3, step 22\n",
            "epoch 3, step 23\n",
            "epoch 3, step 24\n",
            "epoch 3, step 25\n",
            "epoch 3, step 26\n",
            "epoch 3, step 27\n",
            "epoch 3, step 28\n",
            "epoch 3, step 29\n"
          ],
          "name": "stdout"
        },
        {
          "output_type": "display_data",
          "data": {
            "image/png": "[encoded data removed]",
            "text/plain": [
              "<Figure size 432x288 with 1 Axes>"
            ]
          },
          "metadata": {
            "tags": [],
            "needs_background": "light"
          }
        },
        {
          "output_type": "stream",
          "text": [
            "\rtraining:  40%|████      | 4/10 [03:30<05:16, 52.77s/it]"
          ],
          "name": "stderr"
        },
        {
          "output_type": "stream",
          "text": [
            "epoch 4, step 0\n",
            "epoch 4, step 1\n",
            "epoch 4, step 2\n",
            "epoch 4, step 3\n",
            "epoch 4, step 4\n",
            "epoch 4, step 5\n",
            "epoch 4, step 6\n",
            "epoch 4, step 7\n",
            "epoch 4, step 8\n",
            "epoch 4, step 9\n",
            "epoch 4, step 10\n",
            "epoch 4, step 11\n",
            "epoch 4, step 12\n",
            "epoch 4, step 13\n",
            "epoch 4, step 14\n",
            "epoch 4, step 15\n",
            "epoch 4, step 16\n",
            "epoch 4, step 17\n",
            "epoch 4, step 18\n",
            "epoch 4, step 19\n",
            "epoch 4, step 20\n",
            "epoch 4, step 21\n",
            "epoch 4, step 22\n",
            "epoch 4, step 23\n",
            "epoch 4, step 24\n",
            "epoch 4, step 25\n",
            "epoch 4, step 26\n",
            "epoch 4, step 27\n",
            "epoch 4, step 28\n",
            "epoch 4, step 29\n"
          ],
          "name": "stdout"
        },
        {
          "output_type": "display_data",
          "data": {
            "image/png": "[encoded data removed]",
            "text/plain": [
              "<Figure size 432x288 with 1 Axes>"
            ]
          },
          "metadata": {
            "tags": [],
            "needs_background": "light"
          }
        },
        {
          "output_type": "stream",
          "text": [
            "\rtraining:  50%|█████     | 5/10 [04:22<04:23, 52.66s/it]"
          ],
          "name": "stderr"
        },
        {
          "output_type": "stream",
          "text": [
            "epoch 5, step 0\n",
            "epoch 5, step 1\n",
            "epoch 5, step 2\n",
            "epoch 5, step 3\n",
            "epoch 5, step 4\n",
            "epoch 5, step 5\n",
            "epoch 5, step 6\n",
            "epoch 5, step 7\n",
            "epoch 5, step 8\n",
            "epoch 5, step 9\n",
            "epoch 5, step 10\n",
            "epoch 5, step 11\n",
            "epoch 5, step 12\n",
            "epoch 5, step 13\n",
            "epoch 5, step 14\n",
            "epoch 5, step 15\n",
            "epoch 5, step 16\n",
            "epoch 5, step 17\n",
            "epoch 5, step 18\n",
            "epoch 5, step 19\n",
            "epoch 5, step 20\n",
            "epoch 5, step 21\n",
            "epoch 5, step 22\n",
            "epoch 5, step 23\n",
            "epoch 5, step 24\n",
            "epoch 5, step 25\n",
            "epoch 5, step 26\n",
            "epoch 5, step 27\n",
            "epoch 5, step 28\n",
            "epoch 5, step 29\n"
          ],
          "name": "stdout"
        },
        {
          "output_type": "display_data",
          "data": {
            "image/png": "[encoded data removed]",
            "text/plain": [
              "<Figure size 432x288 with 1 Axes>"
            ]
          },
          "metadata": {
            "tags": [],
            "needs_background": "light"
          }
        },
        {
          "output_type": "stream",
          "text": [
            "\rtraining:  60%|██████    | 6/10 [05:15<03:30, 52.60s/it]"
          ],
          "name": "stderr"
        },
        {
          "output_type": "stream",
          "text": [
            "epoch 6, step 0\n",
            "epoch 6, step 1\n",
            "epoch 6, step 2\n",
            "epoch 6, step 3\n",
            "epoch 6, step 4\n",
            "epoch 6, step 5\n",
            "epoch 6, step 6\n",
            "epoch 6, step 7\n",
            "epoch 6, step 8\n",
            "epoch 6, step 9\n",
            "epoch 6, step 10\n",
            "epoch 6, step 11\n",
            "epoch 6, step 12\n",
            "epoch 6, step 13\n",
            "epoch 6, step 14\n",
            "epoch 6, step 15\n",
            "epoch 6, step 16\n",
            "epoch 6, step 17\n",
            "epoch 6, step 18\n",
            "epoch 6, step 19\n",
            "epoch 6, step 20\n",
            "epoch 6, step 21\n",
            "epoch 6, step 22\n",
            "epoch 6, step 23\n",
            "epoch 6, step 24\n",
            "epoch 6, step 25\n",
            "epoch 6, step 26\n",
            "epoch 6, step 27\n",
            "epoch 6, step 28\n",
            "epoch 6, step 29\n"
          ],
          "name": "stdout"
        },
        {
          "output_type": "display_data",
          "data": {
            "image/png": "[encoded data removed]",
            "text/plain": [
              "<Figure size 432x288 with 1 Axes>"
            ]
          },
          "metadata": {
            "tags": [],
            "needs_background": "light"
          }
        },
        {
          "output_type": "stream",
          "text": [
            "\rtraining:  70%|███████   | 7/10 [06:07<02:37, 52.57s/it]"
          ],
          "name": "stderr"
        },
        {
          "output_type": "stream",
          "text": [
            "epoch 7, step 0\n",
            "epoch 7, step 1\n",
            "epoch 7, step 2\n",
            "epoch 7, step 3\n",
            "epoch 7, step 4\n",
            "epoch 7, step 5\n",
            "epoch 7, step 6\n",
            "epoch 7, step 7\n",
            "epoch 7, step 8\n",
            "epoch 7, step 9\n",
            "epoch 7, step 10\n",
            "epoch 7, step 11\n",
            "epoch 7, step 12\n",
            "epoch 7, step 13\n",
            "epoch 7, step 14\n",
            "epoch 7, step 15\n",
            "epoch 7, step 16\n",
            "epoch 7, step 17\n",
            "epoch 7, step 18\n",
            "epoch 7, step 19\n",
            "epoch 7, step 20\n",
            "epoch 7, step 21\n",
            "epoch 7, step 22\n",
            "epoch 7, step 23\n",
            "epoch 7, step 24\n",
            "epoch 7, step 25\n",
            "epoch 7, step 26\n",
            "epoch 7, step 27\n",
            "epoch 7, step 28\n",
            "epoch 7, step 29\n"
          ],
          "name": "stdout"
        },
        {
          "output_type": "display_data",
          "data": {
            "image/png": "[encoded data removed]",
            "text/plain": [
              "<Figure size 432x288 with 1 Axes>"
            ]
          },
          "metadata": {
            "tags": [],
            "needs_background": "light"
          }
        },
        {
          "output_type": "stream",
          "text": [
            "\rtraining:  80%|████████  | 8/10 [07:00<01:45, 52.54s/it]"
          ],
          "name": "stderr"
        },
        {
          "output_type": "stream",
          "text": [
            "epoch 8, step 0\n",
            "epoch 8, step 1\n",
            "epoch 8, step 2\n",
            "epoch 8, step 3\n",
            "epoch 8, step 4\n",
            "epoch 8, step 5\n",
            "epoch 8, step 6\n",
            "epoch 8, step 7\n",
            "epoch 8, step 8\n",
            "epoch 8, step 9\n",
            "epoch 8, step 10\n",
            "epoch 8, step 11\n",
            "epoch 8, step 12\n",
            "epoch 8, step 13\n",
            "epoch 8, step 14\n",
            "epoch 8, step 15\n",
            "epoch 8, step 16\n",
            "epoch 8, step 17\n",
            "epoch 8, step 18\n",
            "epoch 8, step 19\n",
            "epoch 8, step 20\n",
            "epoch 8, step 21\n",
            "epoch 8, step 22\n",
            "epoch 8, step 23\n",
            "epoch 8, step 24\n",
            "epoch 8, step 25\n",
            "epoch 8, step 26\n",
            "epoch 8, step 27\n",
            "epoch 8, step 28\n",
            "epoch 8, step 29\n"
          ],
          "name": "stdout"
        },
        {
          "output_type": "display_data",
          "data": {
            "image/png": "[encoded data removed]",
            "text/plain": [
              "<Figure size 432x288 with 1 Axes>"
            ]
          },
          "metadata": {
            "tags": [],
            "needs_background": "light"
          }
        },
        {
          "output_type": "stream",
          "text": [
            "\rtraining:  90%|█████████ | 9/10 [07:52<00:52, 52.53s/it]"
          ],
          "name": "stderr"
        },
        {
          "output_type": "stream",
          "text": [
            "epoch 9, step 0\n",
            "epoch 9, step 1\n",
            "epoch 9, step 2\n",
            "epoch 9, step 3\n",
            "epoch 9, step 4\n",
            "epoch 9, step 5\n",
            "epoch 9, step 6\n",
            "epoch 9, step 7\n",
            "epoch 9, step 8\n",
            "epoch 9, step 9\n",
            "epoch 9, step 10\n",
            "epoch 9, step 11\n",
            "epoch 9, step 12\n",
            "epoch 9, step 13\n",
            "epoch 9, step 14\n",
            "epoch 9, step 15\n",
            "epoch 9, step 16\n",
            "epoch 9, step 17\n",
            "epoch 9, step 18\n",
            "epoch 9, step 19\n",
            "epoch 9, step 20\n",
            "epoch 9, step 21\n",
            "epoch 9, step 22\n",
            "epoch 9, step 23\n",
            "epoch 9, step 24\n",
            "epoch 9, step 25\n",
            "epoch 9, step 26\n",
            "epoch 9, step 27\n",
            "epoch 9, step 28\n",
            "epoch 9, step 29\n"
          ],
          "name": "stdout"
        },
        {
          "output_type": "display_data",
          "data": {
            "image/png": "[encoded data removed]",
            "text/plain": [
              "<Figure size 432x288 with 1 Axes>"
            ]
          },
          "metadata": {
            "tags": [],
            "needs_background": "light"
          }
        },
        {
          "output_type": "stream",
          "text": [
            "training: 100%|██████████| 10/10 [08:45<00:00, 52.54s/it]\n"
          ],
          "name": "stderr"
        }
      ]
    },
    {
      "cell_type": "code",
      "metadata": {
        "id": "D_Uwtykf-PNp"
      },
      "source": [
        ""
      ],
      "execution_count": 56,
      "outputs": []
    }
  ]
}