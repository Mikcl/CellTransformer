{
  "nbformat": 4,
  "nbformat_minor": 0,
  "metadata": {
    "colab": {
      "name": "Cells are Transformers II",
      "provenance": [],
      "collapsed_sections": [],
      "authorship_tag": "ABX9TyM4tLmxx1xiu0lyqSk6Y7yI",
      "include_colab_link": true
    },
    "kernelspec": {
      "name": "python3",
      "display_name": "Python 3"
    },
    "accelerator": "GPU",
    "widgets": {
      "application/vnd.jupyter.widget-state+json": {
        "b7a5096ab2894b409f0a87e88b3839ab": {
          "model_module": "@jupyter-widgets/controls",
          "model_name": "HBoxModel",
          "state": {
            "_view_name": "HBoxView",
            "_dom_classes": [],
            "_model_name": "HBoxModel",
            "_view_module": "@jupyter-widgets/controls",
            "_model_module_version": "1.5.0",
            "_view_count": null,
            "_view_module_version": "1.5.0",
            "box_style": "",
            "layout": "IPY_MODEL_db5da783d7f24b04a528adaf0f51aa53",
            "_model_module": "@jupyter-widgets/controls",
            "children": [
              "IPY_MODEL_da12d772777344ca9d391707c82fdb7e",
              "IPY_MODEL_4068fb74269e48a890578d7a68afe1e4"
            ]
          }
        },
        "db5da783d7f24b04a528adaf0f51aa53": {
          "model_module": "@jupyter-widgets/base",
          "model_name": "LayoutModel",
          "state": {
            "_view_name": "LayoutView",
            "grid_template_rows": null,
            "right": null,
            "justify_content": null,
            "_view_module": "@jupyter-widgets/base",
            "overflow": null,
            "_model_module_version": "1.2.0",
            "_view_count": null,
            "flex_flow": null,
            "width": null,
            "min_width": null,
            "border": null,
            "align_items": null,
            "bottom": null,
            "_model_module": "@jupyter-widgets/base",
            "top": null,
            "grid_column": null,
            "overflow_y": null,
            "overflow_x": null,
            "grid_auto_flow": null,
            "grid_area": null,
            "grid_template_columns": null,
            "flex": null,
            "_model_name": "LayoutModel",
            "justify_items": null,
            "grid_row": null,
            "max_height": null,
            "align_content": null,
            "visibility": null,
            "align_self": null,
            "height": null,
            "min_height": null,
            "padding": null,
            "grid_auto_rows": null,
            "grid_gap": null,
            "max_width": null,
            "order": null,
            "_view_module_version": "1.2.0",
            "grid_template_areas": null,
            "object_position": null,
            "object_fit": null,
            "grid_auto_columns": null,
            "margin": null,
            "display": null,
            "left": null
          }
        },
        "da12d772777344ca9d391707c82fdb7e": {
          "model_module": "@jupyter-widgets/controls",
          "model_name": "FloatProgressModel",
          "state": {
            "_view_name": "ProgressView",
            "style": "IPY_MODEL_93a0d320687d481a830acf7545f4bdf4",
            "_dom_classes": [],
            "description": "evaluation step: 100%",
            "_model_name": "FloatProgressModel",
            "bar_style": "success",
            "max": 23,
            "_view_module": "@jupyter-widgets/controls",
            "_model_module_version": "1.5.0",
            "value": 23,
            "_view_count": null,
            "_view_module_version": "1.5.0",
            "orientation": "horizontal",
            "min": 0,
            "description_tooltip": null,
            "_model_module": "@jupyter-widgets/controls",
            "layout": "IPY_MODEL_485b29853e4e46a99b1e14c4663b86ec"
          }
        },
        "4068fb74269e48a890578d7a68afe1e4": {
          "model_module": "@jupyter-widgets/controls",
          "model_name": "HTMLModel",
          "state": {
            "_view_name": "HTMLView",
            "style": "IPY_MODEL_1f64555fd56d46939497f49f8266033b",
            "_dom_classes": [],
            "description": "",
            "_model_name": "HTMLModel",
            "placeholder": "​",
            "_view_module": "@jupyter-widgets/controls",
            "_model_module_version": "1.5.0",
            "value": " 23/23 [02:25&lt;00:00,  6.31s/it]",
            "_view_count": null,
            "_view_module_version": "1.5.0",
            "description_tooltip": null,
            "_model_module": "@jupyter-widgets/controls",
            "layout": "IPY_MODEL_45a3b65386fc4ce3ae0ef42ee9f8bae2"
          }
        },
        "93a0d320687d481a830acf7545f4bdf4": {
          "model_module": "@jupyter-widgets/controls",
          "model_name": "ProgressStyleModel",
          "state": {
            "_view_name": "StyleView",
            "_model_name": "ProgressStyleModel",
            "description_width": "initial",
            "_view_module": "@jupyter-widgets/base",
            "_model_module_version": "1.5.0",
            "_view_count": null,
            "_view_module_version": "1.2.0",
            "bar_color": null,
            "_model_module": "@jupyter-widgets/controls"
          }
        },
        "485b29853e4e46a99b1e14c4663b86ec": {
          "model_module": "@jupyter-widgets/base",
          "model_name": "LayoutModel",
          "state": {
            "_view_name": "LayoutView",
            "grid_template_rows": null,
            "right": null,
            "justify_content": null,
            "_view_module": "@jupyter-widgets/base",
            "overflow": null,
            "_model_module_version": "1.2.0",
            "_view_count": null,
            "flex_flow": null,
            "width": null,
            "min_width": null,
            "border": null,
            "align_items": null,
            "bottom": null,
            "_model_module": "@jupyter-widgets/base",
            "top": null,
            "grid_column": null,
            "overflow_y": null,
            "overflow_x": null,
            "grid_auto_flow": null,
            "grid_area": null,
            "grid_template_columns": null,
            "flex": null,
            "_model_name": "LayoutModel",
            "justify_items": null,
            "grid_row": null,
            "max_height": null,
            "align_content": null,
            "visibility": null,
            "align_self": null,
            "height": null,
            "min_height": null,
            "padding": null,
            "grid_auto_rows": null,
            "grid_gap": null,
            "max_width": null,
            "order": null,
            "_view_module_version": "1.2.0",
            "grid_template_areas": null,
            "object_position": null,
            "object_fit": null,
            "grid_auto_columns": null,
            "margin": null,
            "display": null,
            "left": null
          }
        },
        "1f64555fd56d46939497f49f8266033b": {
          "model_module": "@jupyter-widgets/controls",
          "model_name": "DescriptionStyleModel",
          "state": {
            "_view_name": "StyleView",
            "_model_name": "DescriptionStyleModel",
            "description_width": "",
            "_view_module": "@jupyter-widgets/base",
            "_model_module_version": "1.5.0",
            "_view_count": null,
            "_view_module_version": "1.2.0",
            "_model_module": "@jupyter-widgets/controls"
          }
        },
        "45a3b65386fc4ce3ae0ef42ee9f8bae2": {
          "model_module": "@jupyter-widgets/base",
          "model_name": "LayoutModel",
          "state": {
            "_view_name": "LayoutView",
            "grid_template_rows": null,
            "right": null,
            "justify_content": null,
            "_view_module": "@jupyter-widgets/base",
            "overflow": null,
            "_model_module_version": "1.2.0",
            "_view_count": null,
            "flex_flow": null,
            "width": null,
            "min_width": null,
            "border": null,
            "align_items": null,
            "bottom": null,
            "_model_module": "@jupyter-widgets/base",
            "top": null,
            "grid_column": null,
            "overflow_y": null,
            "overflow_x": null,
            "grid_auto_flow": null,
            "grid_area": null,
            "grid_template_columns": null,
            "flex": null,
            "_model_name": "LayoutModel",
            "justify_items": null,
            "grid_row": null,
            "max_height": null,
            "align_content": null,
            "visibility": null,
            "align_self": null,
            "height": null,
            "min_height": null,
            "padding": null,
            "grid_auto_rows": null,
            "grid_gap": null,
            "max_width": null,
            "order": null,
            "_view_module_version": "1.2.0",
            "grid_template_areas": null,
            "object_position": null,
            "object_fit": null,
            "grid_auto_columns": null,
            "margin": null,
            "display": null,
            "left": null
          }
        },
        "0213bb3d2c3c4c6584ac497aec943be2": {
          "model_module": "@jupyter-widgets/controls",
          "model_name": "HBoxModel",
          "state": {
            "_view_name": "HBoxView",
            "_dom_classes": [],
            "_model_name": "HBoxModel",
            "_view_module": "@jupyter-widgets/controls",
            "_model_module_version": "1.5.0",
            "_view_count": null,
            "_view_module_version": "1.5.0",
            "box_style": "",
            "layout": "IPY_MODEL_45a0dc001a354d08bb7062c3887312d4",
            "_model_module": "@jupyter-widgets/controls",
            "children": [
              "IPY_MODEL_5196ff7378aa4ce09c8c460645eb1561",
              "IPY_MODEL_5ab057d0bb5043e491fb45694191fad9"
            ]
          }
        },
        "45a0dc001a354d08bb7062c3887312d4": {
          "model_module": "@jupyter-widgets/base",
          "model_name": "LayoutModel",
          "state": {
            "_view_name": "LayoutView",
            "grid_template_rows": null,
            "right": null,
            "justify_content": null,
            "_view_module": "@jupyter-widgets/base",
            "overflow": null,
            "_model_module_version": "1.2.0",
            "_view_count": null,
            "flex_flow": null,
            "width": null,
            "min_width": null,
            "border": null,
            "align_items": null,
            "bottom": null,
            "_model_module": "@jupyter-widgets/base",
            "top": null,
            "grid_column": null,
            "overflow_y": null,
            "overflow_x": null,
            "grid_auto_flow": null,
            "grid_area": null,
            "grid_template_columns": null,
            "flex": null,
            "_model_name": "LayoutModel",
            "justify_items": null,
            "grid_row": null,
            "max_height": null,
            "align_content": null,
            "visibility": null,
            "align_self": null,
            "height": null,
            "min_height": null,
            "padding": null,
            "grid_auto_rows": null,
            "grid_gap": null,
            "max_width": null,
            "order": null,
            "_view_module_version": "1.2.0",
            "grid_template_areas": null,
            "object_position": null,
            "object_fit": null,
            "grid_auto_columns": null,
            "margin": null,
            "display": null,
            "left": null
          }
        },
        "5196ff7378aa4ce09c8c460645eb1561": {
          "model_module": "@jupyter-widgets/controls",
          "model_name": "FloatProgressModel",
          "state": {
            "_view_name": "ProgressView",
            "style": "IPY_MODEL_cd60306707564178967b94262639541c",
            "_dom_classes": [],
            "description": "evaluation step: 100%",
            "_model_name": "FloatProgressModel",
            "bar_style": "success",
            "max": 23,
            "_view_module": "@jupyter-widgets/controls",
            "_model_module_version": "1.5.0",
            "value": 23,
            "_view_count": null,
            "_view_module_version": "1.5.0",
            "orientation": "horizontal",
            "min": 0,
            "description_tooltip": null,
            "_model_module": "@jupyter-widgets/controls",
            "layout": "IPY_MODEL_b10b9cced40f4400a66495a68c6d6a1e"
          }
        },
        "5ab057d0bb5043e491fb45694191fad9": {
          "model_module": "@jupyter-widgets/controls",
          "model_name": "HTMLModel",
          "state": {
            "_view_name": "HTMLView",
            "style": "IPY_MODEL_7f555902c83f488686d71d980019c36f",
            "_dom_classes": [],
            "description": "",
            "_model_name": "HTMLModel",
            "placeholder": "​",
            "_view_module": "@jupyter-widgets/controls",
            "_model_module_version": "1.5.0",
            "value": " 23/23 [02:13&lt;00:00,  5.80s/it]",
            "_view_count": null,
            "_view_module_version": "1.5.0",
            "description_tooltip": null,
            "_model_module": "@jupyter-widgets/controls",
            "layout": "IPY_MODEL_e9469e8ec4f9441f9cbf070373a97fee"
          }
        },
        "cd60306707564178967b94262639541c": {
          "model_module": "@jupyter-widgets/controls",
          "model_name": "ProgressStyleModel",
          "state": {
            "_view_name": "StyleView",
            "_model_name": "ProgressStyleModel",
            "description_width": "initial",
            "_view_module": "@jupyter-widgets/base",
            "_model_module_version": "1.5.0",
            "_view_count": null,
            "_view_module_version": "1.2.0",
            "bar_color": null,
            "_model_module": "@jupyter-widgets/controls"
          }
        },
        "b10b9cced40f4400a66495a68c6d6a1e": {
          "model_module": "@jupyter-widgets/base",
          "model_name": "LayoutModel",
          "state": {
            "_view_name": "LayoutView",
            "grid_template_rows": null,
            "right": null,
            "justify_content": null,
            "_view_module": "@jupyter-widgets/base",
            "overflow": null,
            "_model_module_version": "1.2.0",
            "_view_count": null,
            "flex_flow": null,
            "width": null,
            "min_width": null,
            "border": null,
            "align_items": null,
            "bottom": null,
            "_model_module": "@jupyter-widgets/base",
            "top": null,
            "grid_column": null,
            "overflow_y": null,
            "overflow_x": null,
            "grid_auto_flow": null,
            "grid_area": null,
            "grid_template_columns": null,
            "flex": null,
            "_model_name": "LayoutModel",
            "justify_items": null,
            "grid_row": null,
            "max_height": null,
            "align_content": null,
            "visibility": null,
            "align_self": null,
            "height": null,
            "min_height": null,
            "padding": null,
            "grid_auto_rows": null,
            "grid_gap": null,
            "max_width": null,
            "order": null,
            "_view_module_version": "1.2.0",
            "grid_template_areas": null,
            "object_position": null,
            "object_fit": null,
            "grid_auto_columns": null,
            "margin": null,
            "display": null,
            "left": null
          }
        },
        "7f555902c83f488686d71d980019c36f": {
          "model_module": "@jupyter-widgets/controls",
          "model_name": "DescriptionStyleModel",
          "state": {
            "_view_name": "StyleView",
            "_model_name": "DescriptionStyleModel",
            "description_width": "",
            "_view_module": "@jupyter-widgets/base",
            "_model_module_version": "1.5.0",
            "_view_count": null,
            "_view_module_version": "1.2.0",
            "_model_module": "@jupyter-widgets/controls"
          }
        },
        "e9469e8ec4f9441f9cbf070373a97fee": {
          "model_module": "@jupyter-widgets/base",
          "model_name": "LayoutModel",
          "state": {
            "_view_name": "LayoutView",
            "grid_template_rows": null,
            "right": null,
            "justify_content": null,
            "_view_module": "@jupyter-widgets/base",
            "overflow": null,
            "_model_module_version": "1.2.0",
            "_view_count": null,
            "flex_flow": null,
            "width": null,
            "min_width": null,
            "border": null,
            "align_items": null,
            "bottom": null,
            "_model_module": "@jupyter-widgets/base",
            "top": null,
            "grid_column": null,
            "overflow_y": null,
            "overflow_x": null,
            "grid_auto_flow": null,
            "grid_area": null,
            "grid_template_columns": null,
            "flex": null,
            "_model_name": "LayoutModel",
            "justify_items": null,
            "grid_row": null,
            "max_height": null,
            "align_content": null,
            "visibility": null,
            "align_self": null,
            "height": null,
            "min_height": null,
            "padding": null,
            "grid_auto_rows": null,
            "grid_gap": null,
            "max_width": null,
            "order": null,
            "_view_module_version": "1.2.0",
            "grid_template_areas": null,
            "object_position": null,
            "object_fit": null,
            "grid_auto_columns": null,
            "margin": null,
            "display": null,
            "left": null
          }
        },
        "73d7496fbb9647feba6eeac3bfa5faa7": {
          "model_module": "@jupyter-widgets/controls",
          "model_name": "HBoxModel",
          "state": {
            "_view_name": "HBoxView",
            "_dom_classes": [],
            "_model_name": "HBoxModel",
            "_view_module": "@jupyter-widgets/controls",
            "_model_module_version": "1.5.0",
            "_view_count": null,
            "_view_module_version": "1.5.0",
            "box_style": "",
            "layout": "IPY_MODEL_184f15a4b07e4036b911693d4377ff90",
            "_model_module": "@jupyter-widgets/controls",
            "children": [
              "IPY_MODEL_33607fd330704142acf7a66d6863e9e3",
              "IPY_MODEL_e79512010d2c4d2cb53935f583248a77"
            ]
          }
        },
        "184f15a4b07e4036b911693d4377ff90": {
          "model_module": "@jupyter-widgets/base",
          "model_name": "LayoutModel",
          "state": {
            "_view_name": "LayoutView",
            "grid_template_rows": null,
            "right": null,
            "justify_content": null,
            "_view_module": "@jupyter-widgets/base",
            "overflow": null,
            "_model_module_version": "1.2.0",
            "_view_count": null,
            "flex_flow": null,
            "width": null,
            "min_width": null,
            "border": null,
            "align_items": null,
            "bottom": null,
            "_model_module": "@jupyter-widgets/base",
            "top": null,
            "grid_column": null,
            "overflow_y": null,
            "overflow_x": null,
            "grid_auto_flow": null,
            "grid_area": null,
            "grid_template_columns": null,
            "flex": null,
            "_model_name": "LayoutModel",
            "justify_items": null,
            "grid_row": null,
            "max_height": null,
            "align_content": null,
            "visibility": null,
            "align_self": null,
            "height": null,
            "min_height": null,
            "padding": null,
            "grid_auto_rows": null,
            "grid_gap": null,
            "max_width": null,
            "order": null,
            "_view_module_version": "1.2.0",
            "grid_template_areas": null,
            "object_position": null,
            "object_fit": null,
            "grid_auto_columns": null,
            "margin": null,
            "display": null,
            "left": null
          }
        },
        "33607fd330704142acf7a66d6863e9e3": {
          "model_module": "@jupyter-widgets/controls",
          "model_name": "FloatProgressModel",
          "state": {
            "_view_name": "ProgressView",
            "style": "IPY_MODEL_d04092ec08c74036bd2294c6b7a4502e",
            "_dom_classes": [],
            "description": "evaluation step: 100%",
            "_model_name": "FloatProgressModel",
            "bar_style": "success",
            "max": 23,
            "_view_module": "@jupyter-widgets/controls",
            "_model_module_version": "1.5.0",
            "value": 23,
            "_view_count": null,
            "_view_module_version": "1.5.0",
            "orientation": "horizontal",
            "min": 0,
            "description_tooltip": null,
            "_model_module": "@jupyter-widgets/controls",
            "layout": "IPY_MODEL_d71ccb351bff43ad961adb446aa2b03b"
          }
        },
        "e79512010d2c4d2cb53935f583248a77": {
          "model_module": "@jupyter-widgets/controls",
          "model_name": "HTMLModel",
          "state": {
            "_view_name": "HTMLView",
            "style": "IPY_MODEL_d61766f3a31142f695887ebcde1037ff",
            "_dom_classes": [],
            "description": "",
            "_model_name": "HTMLModel",
            "placeholder": "​",
            "_view_module": "@jupyter-widgets/controls",
            "_model_module_version": "1.5.0",
            "value": " 23/23 [45:49&lt;00:00, 119.54s/it]",
            "_view_count": null,
            "_view_module_version": "1.5.0",
            "description_tooltip": null,
            "_model_module": "@jupyter-widgets/controls",
            "layout": "IPY_MODEL_2edcf2f5233b4f4b8475c09ffc236a95"
          }
        },
        "d04092ec08c74036bd2294c6b7a4502e": {
          "model_module": "@jupyter-widgets/controls",
          "model_name": "ProgressStyleModel",
          "state": {
            "_view_name": "StyleView",
            "_model_name": "ProgressStyleModel",
            "description_width": "initial",
            "_view_module": "@jupyter-widgets/base",
            "_model_module_version": "1.5.0",
            "_view_count": null,
            "_view_module_version": "1.2.0",
            "bar_color": null,
            "_model_module": "@jupyter-widgets/controls"
          }
        },
        "d71ccb351bff43ad961adb446aa2b03b": {
          "model_module": "@jupyter-widgets/base",
          "model_name": "LayoutModel",
          "state": {
            "_view_name": "LayoutView",
            "grid_template_rows": null,
            "right": null,
            "justify_content": null,
            "_view_module": "@jupyter-widgets/base",
            "overflow": null,
            "_model_module_version": "1.2.0",
            "_view_count": null,
            "flex_flow": null,
            "width": null,
            "min_width": null,
            "border": null,
            "align_items": null,
            "bottom": null,
            "_model_module": "@jupyter-widgets/base",
            "top": null,
            "grid_column": null,
            "overflow_y": null,
            "overflow_x": null,
            "grid_auto_flow": null,
            "grid_area": null,
            "grid_template_columns": null,
            "flex": null,
            "_model_name": "LayoutModel",
            "justify_items": null,
            "grid_row": null,
            "max_height": null,
            "align_content": null,
            "visibility": null,
            "align_self": null,
            "height": null,
            "min_height": null,
            "padding": null,
            "grid_auto_rows": null,
            "grid_gap": null,
            "max_width": null,
            "order": null,
            "_view_module_version": "1.2.0",
            "grid_template_areas": null,
            "object_position": null,
            "object_fit": null,
            "grid_auto_columns": null,
            "margin": null,
            "display": null,
            "left": null
          }
        },
        "d61766f3a31142f695887ebcde1037ff": {
          "model_module": "@jupyter-widgets/controls",
          "model_name": "DescriptionStyleModel",
          "state": {
            "_view_name": "StyleView",
            "_model_name": "DescriptionStyleModel",
            "description_width": "",
            "_view_module": "@jupyter-widgets/base",
            "_model_module_version": "1.5.0",
            "_view_count": null,
            "_view_module_version": "1.2.0",
            "_model_module": "@jupyter-widgets/controls"
          }
        },
        "2edcf2f5233b4f4b8475c09ffc236a95": {
          "model_module": "@jupyter-widgets/base",
          "model_name": "LayoutModel",
          "state": {
            "_view_name": "LayoutView",
            "grid_template_rows": null,
            "right": null,
            "justify_content": null,
            "_view_module": "@jupyter-widgets/base",
            "overflow": null,
            "_model_module_version": "1.2.0",
            "_view_count": null,
            "flex_flow": null,
            "width": null,
            "min_width": null,
            "border": null,
            "align_items": null,
            "bottom": null,
            "_model_module": "@jupyter-widgets/base",
            "top": null,
            "grid_column": null,
            "overflow_y": null,
            "overflow_x": null,
            "grid_auto_flow": null,
            "grid_area": null,
            "grid_template_columns": null,
            "flex": null,
            "_model_name": "LayoutModel",
            "justify_items": null,
            "grid_row": null,
            "max_height": null,
            "align_content": null,
            "visibility": null,
            "align_self": null,
            "height": null,
            "min_height": null,
            "padding": null,
            "grid_auto_rows": null,
            "grid_gap": null,
            "max_width": null,
            "order": null,
            "_view_module_version": "1.2.0",
            "grid_template_areas": null,
            "object_position": null,
            "object_fit": null,
            "grid_auto_columns": null,
            "margin": null,
            "display": null,
            "left": null
          }
        },
        "2b968a9550c141bab35f2f1b32c743ed": {
          "model_module": "@jupyter-widgets/controls",
          "model_name": "HBoxModel",
          "state": {
            "_view_name": "HBoxView",
            "_dom_classes": [],
            "_model_name": "HBoxModel",
            "_view_module": "@jupyter-widgets/controls",
            "_model_module_version": "1.5.0",
            "_view_count": null,
            "_view_module_version": "1.5.0",
            "box_style": "",
            "layout": "IPY_MODEL_3a1d499ce5924fd888923b6b089a6110",
            "_model_module": "@jupyter-widgets/controls",
            "children": [
              "IPY_MODEL_97fdf6d72d284328bf87e356c9573dd6",
              "IPY_MODEL_b8469de05b9d496f8023ad2907d39870"
            ]
          }
        },
        "3a1d499ce5924fd888923b6b089a6110": {
          "model_module": "@jupyter-widgets/base",
          "model_name": "LayoutModel",
          "state": {
            "_view_name": "LayoutView",
            "grid_template_rows": null,
            "right": null,
            "justify_content": null,
            "_view_module": "@jupyter-widgets/base",
            "overflow": null,
            "_model_module_version": "1.2.0",
            "_view_count": null,
            "flex_flow": null,
            "width": null,
            "min_width": null,
            "border": null,
            "align_items": null,
            "bottom": null,
            "_model_module": "@jupyter-widgets/base",
            "top": null,
            "grid_column": null,
            "overflow_y": null,
            "overflow_x": null,
            "grid_auto_flow": null,
            "grid_area": null,
            "grid_template_columns": null,
            "flex": null,
            "_model_name": "LayoutModel",
            "justify_items": null,
            "grid_row": null,
            "max_height": null,
            "align_content": null,
            "visibility": null,
            "align_self": null,
            "height": null,
            "min_height": null,
            "padding": null,
            "grid_auto_rows": null,
            "grid_gap": null,
            "max_width": null,
            "order": null,
            "_view_module_version": "1.2.0",
            "grid_template_areas": null,
            "object_position": null,
            "object_fit": null,
            "grid_auto_columns": null,
            "margin": null,
            "display": null,
            "left": null
          }
        },
        "97fdf6d72d284328bf87e356c9573dd6": {
          "model_module": "@jupyter-widgets/controls",
          "model_name": "FloatProgressModel",
          "state": {
            "_view_name": "ProgressView",
            "style": "IPY_MODEL_90d63e52e6fe464cb80ff4a78a8ac41a",
            "_dom_classes": [],
            "description": "generating images: 100%",
            "_model_name": "FloatProgressModel",
            "bar_style": "success",
            "max": 20,
            "_view_module": "@jupyter-widgets/controls",
            "_model_module_version": "1.5.0",
            "value": 20,
            "_view_count": null,
            "_view_module_version": "1.5.0",
            "orientation": "horizontal",
            "min": 0,
            "description_tooltip": null,
            "_model_module": "@jupyter-widgets/controls",
            "layout": "IPY_MODEL_fab2d98885f24f2387d43e6b29132ae4"
          }
        },
        "b8469de05b9d496f8023ad2907d39870": {
          "model_module": "@jupyter-widgets/controls",
          "model_name": "HTMLModel",
          "state": {
            "_view_name": "HTMLView",
            "style": "IPY_MODEL_c240b15bfa7b4afcb5ff1f4f2cb96571",
            "_dom_classes": [],
            "description": "",
            "_model_name": "HTMLModel",
            "placeholder": "​",
            "_view_module": "@jupyter-widgets/controls",
            "_model_module_version": "1.5.0",
            "value": " 20/20 [43:37&lt;00:00, 130.88s/it]",
            "_view_count": null,
            "_view_module_version": "1.5.0",
            "description_tooltip": null,
            "_model_module": "@jupyter-widgets/controls",
            "layout": "IPY_MODEL_bd7b0e8f6fcf439e973294307a1903af"
          }
        },
        "90d63e52e6fe464cb80ff4a78a8ac41a": {
          "model_module": "@jupyter-widgets/controls",
          "model_name": "ProgressStyleModel",
          "state": {
            "_view_name": "StyleView",
            "_model_name": "ProgressStyleModel",
            "description_width": "initial",
            "_view_module": "@jupyter-widgets/base",
            "_model_module_version": "1.5.0",
            "_view_count": null,
            "_view_module_version": "1.2.0",
            "bar_color": null,
            "_model_module": "@jupyter-widgets/controls"
          }
        },
        "fab2d98885f24f2387d43e6b29132ae4": {
          "model_module": "@jupyter-widgets/base",
          "model_name": "LayoutModel",
          "state": {
            "_view_name": "LayoutView",
            "grid_template_rows": null,
            "right": null,
            "justify_content": null,
            "_view_module": "@jupyter-widgets/base",
            "overflow": null,
            "_model_module_version": "1.2.0",
            "_view_count": null,
            "flex_flow": null,
            "width": null,
            "min_width": null,
            "border": null,
            "align_items": null,
            "bottom": null,
            "_model_module": "@jupyter-widgets/base",
            "top": null,
            "grid_column": null,
            "overflow_y": null,
            "overflow_x": null,
            "grid_auto_flow": null,
            "grid_area": null,
            "grid_template_columns": null,
            "flex": null,
            "_model_name": "LayoutModel",
            "justify_items": null,
            "grid_row": null,
            "max_height": null,
            "align_content": null,
            "visibility": null,
            "align_self": null,
            "height": null,
            "min_height": null,
            "padding": null,
            "grid_auto_rows": null,
            "grid_gap": null,
            "max_width": null,
            "order": null,
            "_view_module_version": "1.2.0",
            "grid_template_areas": null,
            "object_position": null,
            "object_fit": null,
            "grid_auto_columns": null,
            "margin": null,
            "display": null,
            "left": null
          }
        },
        "c240b15bfa7b4afcb5ff1f4f2cb96571": {
          "model_module": "@jupyter-widgets/controls",
          "model_name": "DescriptionStyleModel",
          "state": {
            "_view_name": "StyleView",
            "_model_name": "DescriptionStyleModel",
            "description_width": "",
            "_view_module": "@jupyter-widgets/base",
            "_model_module_version": "1.5.0",
            "_view_count": null,
            "_view_module_version": "1.2.0",
            "_model_module": "@jupyter-widgets/controls"
          }
        },
        "bd7b0e8f6fcf439e973294307a1903af": {
          "model_module": "@jupyter-widgets/base",
          "model_name": "LayoutModel",
          "state": {
            "_view_name": "LayoutView",
            "grid_template_rows": null,
            "right": null,
            "justify_content": null,
            "_view_module": "@jupyter-widgets/base",
            "overflow": null,
            "_model_module_version": "1.2.0",
            "_view_count": null,
            "flex_flow": null,
            "width": null,
            "min_width": null,
            "border": null,
            "align_items": null,
            "bottom": null,
            "_model_module": "@jupyter-widgets/base",
            "top": null,
            "grid_column": null,
            "overflow_y": null,
            "overflow_x": null,
            "grid_auto_flow": null,
            "grid_area": null,
            "grid_template_columns": null,
            "flex": null,
            "_model_name": "LayoutModel",
            "justify_items": null,
            "grid_row": null,
            "max_height": null,
            "align_content": null,
            "visibility": null,
            "align_self": null,
            "height": null,
            "min_height": null,
            "padding": null,
            "grid_auto_rows": null,
            "grid_gap": null,
            "max_width": null,
            "order": null,
            "_view_module_version": "1.2.0",
            "grid_template_areas": null,
            "object_position": null,
            "object_fit": null,
            "grid_auto_columns": null,
            "margin": null,
            "display": null,
            "left": null
          }
        }
      }
    }
  },
  "cells": [
    {
      "cell_type": "markdown",
      "metadata": {
        "id": "view-in-github",
        "colab_type": "text"
      },
      "source": [
        "<a href=\"https://colab.research.google.com/github/Mikcl/CellTransformer/blob/experiments/Cells_are_Transformers_II.ipynb\" target=\"_parent\"><img src=\"https://colab.research.google.com/assets/colab-badge.svg\" alt=\"Open In Colab\"/></a>"
      ]
    },
    {
      "cell_type": "code",
      "metadata": {
        "id": "g305-z3wlXTQ",
        "colab": {
          "base_uri": "https://localhost:8080/"
        },
        "outputId": "ac066f21-2c2a-4c6e-f401-17b858bc7f33"
      },
      "source": [
        "!pip install linear-attention-transformer\n",
        "!pip install einops"
      ],
      "execution_count": null,
      "outputs": [
        {
          "output_type": "stream",
          "text": [
            "Collecting linear-attention-transformer\n",
            "  Downloading https://files.pythonhosted.org/packages/ef/aa/014fa1cf088fe07584fc0968acd5a840855b05b94dd791bcf47886c3201b/linear_attention_transformer-0.18.0-py3-none-any.whl\n",
            "Collecting linformer>=0.1.0\n",
            "  Downloading https://files.pythonhosted.org/packages/c4/5f/10f3ebeb144982a0170b5ec9dcf80e6ae82a6e6e9afddd21c9bf985e62c5/linformer-0.2.1-py3-none-any.whl\n",
            "Collecting local-attention\n",
            "  Downloading https://files.pythonhosted.org/packages/a0/86/f1df73868c1c433a9184d94e86cdd970951ecf14d8b556b41302febb9a12/local_attention-1.2.2-py3-none-any.whl\n",
            "Requirement already satisfied: torch in /usr/local/lib/python3.7/dist-packages (from linear-attention-transformer) (1.8.1+cu101)\n",
            "Collecting einops\n",
            "  Downloading https://files.pythonhosted.org/packages/5d/a0/9935e030634bf60ecd572c775f64ace82ceddf2f504a5fd3902438f07090/einops-0.3.0-py2.py3-none-any.whl\n",
            "Collecting axial-positional-embedding\n",
            "  Downloading https://files.pythonhosted.org/packages/7a/27/ad886f872b15153905d957a70670efe7521a07c70d324ff224f998e52492/axial_positional_embedding-0.2.1.tar.gz\n",
            "Collecting product-key-memory>=0.1.5\n",
            "  Downloading https://files.pythonhosted.org/packages/31/3b/c1f8977e4b04f047acc7b23c7424d1e2e624ed7031e699a2ac2287af4c1f/product_key_memory-0.1.10.tar.gz\n",
            "Requirement already satisfied: typing-extensions in /usr/local/lib/python3.7/dist-packages (from torch->linear-attention-transformer) (3.7.4.3)\n",
            "Requirement already satisfied: numpy in /usr/local/lib/python3.7/dist-packages (from torch->linear-attention-transformer) (1.19.5)\n",
            "Building wheels for collected packages: axial-positional-embedding, product-key-memory\n",
            "  Building wheel for axial-positional-embedding (setup.py) ... \u001b[?25l\u001b[?25hdone\n",
            "  Created wheel for axial-positional-embedding: filename=axial_positional_embedding-0.2.1-cp37-none-any.whl size=2905 sha256=b9be91e27e5bd44da64b3d39288ee9d26c6c8753dcd91d0389b790cf23a262f5\n",
            "  Stored in directory: /root/.cache/pip/wheels/cd/f8/93/25b60e319a481e8f324dcb1871aff818eb0c8143ed20b732b4\n",
            "  Building wheel for product-key-memory (setup.py) ... \u001b[?25l\u001b[?25hdone\n",
            "  Created wheel for product-key-memory: filename=product_key_memory-0.1.10-cp37-none-any.whl size=3072 sha256=badf896128b2a61be4bf32659e5ebc5c8191dda31ee0f9acf1832ec40e0a4f25\n",
            "  Stored in directory: /root/.cache/pip/wheels/6d/e0/3b/fd3111a4fac652ed014ccfd4757754f006132723985e229419\n",
            "Successfully built axial-positional-embedding product-key-memory\n",
            "Installing collected packages: linformer, local-attention, einops, axial-positional-embedding, product-key-memory, linear-attention-transformer\n",
            "Successfully installed axial-positional-embedding-0.2.1 einops-0.3.0 linear-attention-transformer-0.18.0 linformer-0.2.1 local-attention-1.2.2 product-key-memory-0.1.10\n",
            "Requirement already satisfied: einops in /usr/local/lib/python3.7/dist-packages (0.3.0)\n"
          ],
          "name": "stdout"
        }
      ]
    },
    {
      "cell_type": "code",
      "metadata": {
        "id": "Awl8-4fPlAZ8"
      },
      "source": [
        "import os\n",
        "import base64\n",
        "import numpy as np\n",
        "import torch\n",
        "from torch.utils.data import DataLoader, Dataset\n",
        "from torch import nn\n",
        "from IPython.display import Image, HTML, clear_output\n",
        "import tqdm\n",
        "\n",
        "import io\n",
        "import PIL.Image, PIL.ImageDraw\n",
        "import base64\n",
        "import zipfile\n",
        "import json\n",
        "import requests\n",
        "import matplotlib.pylab as plt\n",
        "import glob\n",
        "\n",
        "import torch.optim as optim\n",
        "\n",
        "from linear_attention_transformer import LinearAttentionTransformerLM\n",
        "from linear_attention_transformer.autoregressive_wrapper import AutoregressiveWrapper\n",
        "\n",
        "from einops import rearrange\n",
        "\n",
        "import shutil\n",
        "from google.colab import drive\n",
        "# drive.mount('/content/gdrive')\n",
        "DRIVE_PATH = '/content/gdrive/My Drive/'\n",
        "\n",
        "\n",
        "YOUR_FOLDER_PATH = 'KCL CS/Year 4/PRJ/models/'\n",
        "\n",
        "GOOGLE_DRIVE_FOLDER = DRIVE_PATH + YOUR_FOLDER_PATH\n",
        "\n",
        "\n",
        "clear_output()"
      ],
      "execution_count": null,
      "outputs": []
    },
    {
      "cell_type": "code",
      "metadata": {
        "id": "90lPXBTtlaph"
      },
      "source": [
        "#@title Cellular Automata Parameters\n",
        "CHANNEL_N = 4        # Number of CA state channels\n",
        "TARGET_PADDING = 16   # Number of pixels used to pad the target image border\n",
        "TARGET_SIZE = 40\n",
        "# worm u_1fab1 , microbe u_1f9a0 \t\n",
        "# 👁, 🦎  '🦎😀💥 🦠 💐 🥶 👁,🌸,\n",
        "TARGET_EMOJI = \"🌸\" #@param {type:\"string\"}\n",
        "\n",
        "EXPERIMENT_TYPE = \"Growing\" #@param [\"Growing\"] # \"Persistent\", \"Regenerating\"\n",
        "EXPERIMENT_MAP = {\"Growing\":0, \"Persistent\":1, \"Regenerating\":2}\n",
        "EXPERIMENT_N =  0 #EXPERIMENT_MAP[EXPERIMENT_TYPE]\n",
        "\n",
        "USE_PATTERN_POOL = [0, 1, 1][EXPERIMENT_N]\n",
        "DAMAGE_N = [0, 0, 3][EXPERIMENT_N]  # Number of patterns to damage in a batch"
      ],
      "execution_count": null,
      "outputs": []
    },
    {
      "cell_type": "code",
      "metadata": {
        "id": "qTMuZlP6m4Z6"
      },
      "source": [
        "#@title Transformer Token Details\n",
        "TOKEN_OFFSET = 2\n",
        "NUM_TOKENS = 257 + TOKEN_OFFSET\n",
        "ENC_SEQ_LEN = 9 * CHANNEL_N\n",
        "DEC_SEQ_LEN = CHANNEL_N"
      ],
      "execution_count": null,
      "outputs": []
    },
    {
      "cell_type": "code",
      "metadata": {
        "id": "iBCiVj1WmnAE"
      },
      "source": [
        "#@title Tranformer Hyperparameters \n",
        "\n",
        "EPOCHS = 200 # 300 #int(1e3)\n",
        "BATCH_SIZE = 16\n",
        "LEARNING_RATE = 1e-4\n",
        "# GENERATE_EVERY  = 100   # For visual results during training. . "
      ],
      "execution_count": null,
      "outputs": []
    },
    {
      "cell_type": "code",
      "metadata": {
        "id": "vXPB73jkn1cB"
      },
      "source": [
        "#@title Helpers \n",
        "\n",
        "def to_rgba(x):\n",
        "  return x[:,:4,:,:]\n",
        "\n",
        "def to_rgb(x):\n",
        "  return x[:,:3,:,:]\n",
        "\n",
        "def make_seed(size, n=1):\n",
        "  x = np.zeros([n, size, size, CHANNEL_N], np.float32)\n",
        "  x[:, size//2, size//2, 3:] = 1.0\n",
        "  return x\n",
        "\n",
        "def plot_loss(loss_log):\n",
        "  plt.figure(figsize=(10, 4))\n",
        "  plt.title('Loss history (log10)')\n",
        "  plt.plot(np.log10(loss_log), '.', alpha=0.1)\n",
        "  plt.show()\n",
        "\n",
        "def np2pil(a):\n",
        "  if a.dtype in [np.float32, np.float64]:\n",
        "    a = np.uint8(np.clip(a, 0, 1)*255)\n",
        "  return PIL.Image.fromarray(a)\n",
        "\n",
        "def imwrite(f, a, fmt=None):\n",
        "  a = np.asarray(a)\n",
        "  if isinstance(f, str):\n",
        "    fmt = f.rsplit('.', 1)[-1].lower()\n",
        "    if fmt == 'jpg':\n",
        "      fmt = 'jpeg'\n",
        "    f = open(f, 'wb')\n",
        "  np2pil(a).save(f, fmt, quality=95)\n",
        "\n",
        "def imencode(a, fmt='jpeg'):\n",
        "  a = np.asarray(a)\n",
        "  if len(a.shape) == 3 and a.shape[-1] == 4:\n",
        "    fmt = 'png'\n",
        "  f = io.BytesIO()\n",
        "  imwrite(f, a, fmt)\n",
        "  return f.getvalue()\n",
        "\n",
        "def im2url(a, fmt='jpeg'):\n",
        "  encoded = imencode(a, fmt)\n",
        "  base64_byte_string = base64.b64encode(encoded).decode('ascii')\n",
        "  return 'data:image/' + fmt.upper() + ';base64,' + base64_byte_string\n"
      ],
      "execution_count": null,
      "outputs": []
    },
    {
      "cell_type": "code",
      "metadata": {
        "id": "fup4z40WpClo"
      },
      "source": [
        "#@title Load image utils. \n",
        "\n",
        "# Returns h,w,c image where c=RGBA\n",
        "def load_image(url, max_size=TARGET_SIZE):\n",
        "  r = requests.get(url)\n",
        "  print('R',r)\n",
        "  img = PIL.Image.open(io.BytesIO(r.content))\n",
        "  img.thumbnail((max_size, max_size), PIL.Image.ANTIALIAS)\n",
        "  # img = np.float32(img)\n",
        "  # return img\n",
        "\n",
        "  # ASSUME THIERS\n",
        "  img = np.float32(img)/255.0\n",
        "  # premultiply normalised RGB by Alpha\n",
        "  img[..., :3] *= img[..., 3:]\n",
        "  img = img*255.0\n",
        "  return img\n",
        "\n",
        "def load_emoji(emoji):\n",
        "  code = hex(ord(emoji))[2:].lower()\n",
        "  url = 'https://github.com/googlefonts/noto-emoji/raw/main/png/128/emoji_u%s.png'%code\n",
        "  return load_image(url)"
      ],
      "execution_count": null,
      "outputs": []
    },
    {
      "cell_type": "code",
      "metadata": {
        "id": "_rKmByqYpcE6"
      },
      "source": [
        "#@title To Device\n",
        "if torch.cuda.is_available():  \n",
        "  dev = \"cuda:0\" \n",
        "else:  \n",
        "  dev = \"cpu\"\n",
        "device = torch.device(dev)  "
      ],
      "execution_count": null,
      "outputs": []
    },
    {
      "cell_type": "code",
      "metadata": {
        "id": "dpswGT_xsezf",
        "colab": {
          "base_uri": "https://localhost:8080/"
        },
        "outputId": "385bf24d-114c-40d4-9317-8423a2e9a9f9"
      },
      "source": [
        "#@title Load Emoji\n",
        "target_img = load_emoji(TARGET_EMOJI)"
      ],
      "execution_count": null,
      "outputs": [
        {
          "output_type": "stream",
          "text": [
            "R <Response [200]>\n"
          ],
          "name": "stdout"
        }
      ]
    },
    {
      "cell_type": "code",
      "metadata": {
        "id": "zK7C4qZRsGnt"
      },
      "source": [
        "p = TARGET_PADDING\n",
        "target_img_tensor = torch.from_numpy(target_img)\n",
        "\n",
        "# (72,72,4)\n",
        "pad_target = torch.nn.functional.pad(target_img_tensor, pad=(0,0,p,p,p,p), mode='constant', value=0)\n",
        "h, w = pad_target.shape[:2]\n",
        "\n",
        "# (CHANNEL_N, 72, 72)\n",
        "seed = np.zeros([CHANNEL_N, h, w], np.float32)\n",
        "seed[3:, h//2, w//2] = 255\n",
        "\n",
        "pad_target = pad_target.permute(2, 0, 1)"
      ],
      "execution_count": null,
      "outputs": []
    },
    {
      "cell_type": "code",
      "metadata": {
        "id": "YM2KOzGus8Hv",
        "colab": {
          "base_uri": "https://localhost:8080/"
        },
        "outputId": "4d1c4917-8ce9-49a3-d2a2-660103995cc2"
      },
      "source": [
        "pad_target = pad_target.to(device)\n",
        "print(pad_target.shape)"
      ],
      "execution_count": null,
      "outputs": [
        {
          "output_type": "stream",
          "text": [
            "torch.Size([4, 72, 72])\n"
          ],
          "name": "stdout"
        }
      ]
    },
    {
      "cell_type": "code",
      "metadata": {
        "id": "FP3syDMHy-Jv"
      },
      "source": [
        "#@title Masking Utils\n",
        "IMAGE_BATCH_SIZE = 1 #number of images to concurrently train on. \n",
        "LIVE_MIN = 0\n",
        "\n",
        "# Applied on default/non-tokenized values\n",
        "def get_living_mask(x, rate=LIVE_MIN, k=3):\n",
        "  alpha = x[:, 3:4, :, :]\n",
        "  p = 1 if k > 1 else 0\n",
        "  return torch.nn.functional.max_pool2d(input=alpha, kernel_size=k, stride=1, padding=p) > rate\n",
        "\n",
        "# 3d tensor as boolean. rate = 0 before, k =3\n",
        "alive_target_mask = get_living_mask(pad_target[None,...]/255.0, rate=0.1, k=1)\n",
        "\n",
        "loss_target_mask = get_living_mask(pad_target[None,...]/255.0, rate=0.1, k=1)\n",
        "loss_target = ((pad_target/255.0) * loss_target_mask.float().bool().long())\n",
        "\n",
        "def cleaned_x_long(x, bool_mask):\n",
        "  return  (x * bool_mask.float().bool().long()).long()\n",
        "\n",
        "def t_loss_f(x, clean=False):\n",
        "    x = x[:,:,:,:]\n",
        "\n",
        "    x = x if not clean else cleaned_x_long(x,loss_target_mask)\n",
        "    return np.mean(torch.square((x/255.0)-loss_target).cpu().detach().numpy(), axis=1)\n",
        "\n",
        "\n",
        "def loss_score(loss):\n",
        "    return np.log10(np.mean(loss))\n",
        "\n",
        "def plot_loss_diff(loss):\n",
        "  img_loss = loss.reshape(loss.shape[1],loss.shape[2])  # TODO may be wrong indexes.\n",
        "\n",
        "  plt.imshow(zoom(img_loss, 1), vmin=0, vmax=1, cmap='jet') #'gray_r'\n",
        "  plt.colorbar()\n",
        "\n",
        "\n",
        "# TODO REMOVE FUNC\n",
        "def loss_f(x, clean=False):\n",
        "    x = x[:,:,:,:]\n",
        "\n",
        "    # ls = nn.MSELoss()\n",
        "    # err = ls(x[0]/255.0, pad_target.long()/255.0).cpu().detach().numpy()\n",
        "    return np.mean(torch.square((x/255.0)-(pad_target/255.0)).cpu().detach().numpy(), axis=1)\n",
        "\n",
        "\n",
        "def get_dilatied_mask(x):\n",
        "  # Returns x dilated mask as FloatType \n",
        "  output = x.sum(-3) > 0\n",
        "  output = output.type(torch.FloatTensor)\n",
        "  kernel = torch.tensor([[1,1,1],[1,1,1],[1,1,1]]).type(torch.FloatTensor)\n",
        "  dilated = torch.nn.functional.conv2d(output[None,...], kernel[None, None, ...].expand(1, -1, -1, -1), groups=1, padding=1)\n",
        "  return dilated\n",
        "\n",
        "def get_living_target(x):\n",
        "  living_mask = get_living_mask(x)\n",
        "\n",
        "  # print('SUM OF 1s', torch.sum(torch.flatten(living_mask)))\n",
        "  living_target_mask = (living_mask & alive_target_mask)\n",
        "  living_target = pad_target[None,...] * living_target_mask.float()\n",
        "  living_target = living_target[0]\n",
        "  return living_target\n",
        "\n",
        "def mask_target(mask):\n",
        "  '''\n",
        "    mask - tensor: 2D - Float\n",
        "\n",
        "    returns - tensor: 4D - T\n",
        "  '''\n",
        "  # returns 4d tensor. \n",
        "  target_batch = pad_target[None, ...] * mask\n",
        "  return target_batch\n"
      ],
      "execution_count": null,
      "outputs": []
    },
    {
      "cell_type": "code",
      "metadata": {
        "id": "T1fglUUQteEd"
      },
      "source": [
        "#@title Define Model\n",
        "def tokenize(x):\n",
        "  return (x + 2).long()\n",
        "\n",
        "def detokenize(x):\n",
        "  return (x - 2).long()\n",
        "\n",
        "def percieve(x):\n",
        "  # x - 4d tensor - N, C, H, W\n",
        "  _,_,h,w = x.shape\n",
        "  padded_x = torch.nn.functional.pad(x, pad=(1,1,1,1), mode='constant', value=0)\n",
        "  stacked_image = torch.cat(\n",
        "      [padded_x[:,:,i:i+h, j:j+w]  for j in range(3) for i in range(3)]\n",
        "      ,1\n",
        "  )\n",
        "  return stacked_image\n",
        "\n",
        "\n",
        "# instantiate model\n",
        "enc = LinearAttentionTransformerLM(\n",
        "    num_tokens = NUM_TOKENS,\n",
        "    dim = 1024,\n",
        "    heads = 8,\n",
        "    depth = 6,\n",
        "    max_seq_len = ENC_SEQ_LEN,\n",
        "    # one_kv_head = True,\n",
        "    use_axial_pos_emb=False,\n",
        "    return_embeddings = True\n",
        ").to(device)\n",
        "\n",
        "dec = LinearAttentionTransformerLM(\n",
        "    num_tokens = NUM_TOKENS,\n",
        "    dim = 1024,\n",
        "    heads = 8,\n",
        "    depth = 6,\n",
        "    causal = True,\n",
        "    blindspot_size = 1,\n",
        "    max_seq_len = DEC_SEQ_LEN,\n",
        "    # one_kv_head = True,\n",
        "    use_axial_pos_emb=False,\n",
        "    receives_context = True\n",
        ").to(device)\n",
        "\n",
        "dec = AutoregressiveWrapper(dec)\n",
        "\n",
        "\n",
        "\n"
      ],
      "execution_count": null,
      "outputs": []
    },
    {
      "cell_type": "code",
      "metadata": {
        "id": "J5lGSTAXnsnL"
      },
      "source": [
        "#@title Load Saved Model Instead\n",
        "LOAD_MODEL = False\n",
        "enc_path = GOOGLE_DRIVE_FOLDER + 'enc-first.pth'\n",
        "dec_path = GOOGLE_DRIVE_FOLDER + 'dec-first.pth'\n",
        "if (LOAD_MODEL):\n",
        "  enc = torch.load(enc_path)\n",
        "  # enc.eval()\n",
        "  dec = torch.load(dec_path)\n",
        "  # dec.eval()\n"
      ],
      "execution_count": null,
      "outputs": []
    },
    {
      "cell_type": "code",
      "metadata": {
        "id": "YRfYEZakngND"
      },
      "source": [
        "optim = torch.optim.Adam([*enc.parameters(), *dec.parameters()], lr=LEARNING_RATE)"
      ],
      "execution_count": null,
      "outputs": []
    },
    {
      "cell_type": "code",
      "metadata": {
        "id": "OIz10RkPL14v"
      },
      "source": [
        "#@title Dataset Generation Helpers. \n",
        "SENTENCES = int(alive_target_mask.shape[2] * alive_target_mask.shape[3])\n",
        "\n",
        "class CellTraining(Dataset):\n",
        "    def __init__(self, X, Y):\n",
        "        self.src = X\n",
        "        self.tgt = Y\n",
        "        assert X.shape[0] == Y.shape[0], 'Dataset X and Y not of same length'\n",
        "\n",
        "        b = X.shape[0]\n",
        "        self.SRC_MASK = torch.ones(b, ENC_SEQ_LEN).bool()\n",
        "        self.TGT_MASK = torch.ones(b, DEC_SEQ_LEN).bool()\n",
        "\n",
        "        self.length = b\n",
        "\n",
        "    def __len__(self):\n",
        "        return self.length\n",
        "\n",
        "    def __getitem__(self, idx):\n",
        "        src = self.src[idx]\n",
        "        tgt = self.tgt[idx]\n",
        "        src_mask = self.SRC_MASK[idx]\n",
        "        tgt_mask = self.TGT_MASK[idx] \n",
        "        return src.to(device), tgt.to(device), src_mask.to(device), tgt_mask.to(device)\n",
        "\n",
        "\n",
        "class CellEvaluating(Dataset):\n",
        "    def __init__(self, X):\n",
        "        self.src = X\n",
        "        b = X.shape[0]\n",
        "        self.SRC_MASK = torch.ones(b, ENC_SEQ_LEN).bool()\n",
        "        self.length = b\n",
        "\n",
        "    def __len__(self):\n",
        "        return self.length\n",
        "\n",
        "    def __getitem__(self, idx):\n",
        "        src = self.src[idx]\n",
        "        src_mask = self.SRC_MASK[idx]\n",
        "        return src.to(device), src_mask.to(device)\n",
        "\n",
        "\n",
        "\n",
        "def get_start_tokens(number_of_sentences):\n",
        "    return torch.ones((number_of_sentences, 1)).long().to(device)\n",
        "\n",
        "def image_to_sentences(x):\n",
        "  '''\n",
        "    ## maps a 3D tensor of shape (c, h, w) to a 2D tensor of (h*w, c)\n",
        "    these are known as sentences or 'patches' of size one\n",
        "  '''\n",
        "  return rearrange(x,'c h w -> (h w) c')\n",
        "\n",
        "\n",
        "def sentences_to_image(x, height, width):\n",
        "  '''\n",
        "    ## maps a 2D tesnor of shape (h*w, c) to image/3D tensor shape of (c, h, w)\n",
        "    inverse of image_to_sentence\n",
        "    height: int - image dimension\n",
        "    width: int - image dimension\n",
        "  '''\n",
        "  return rearrange(x, '(h w) (p1 p2 c) -> c (h p1) (w p2)', p1 =1, p2 =1, h=height, w=width)\n",
        "\n",
        "def zoom(img, scale=4):\n",
        "  img = np.repeat(img, scale, 0)\n",
        "  img = np.repeat(img, scale, 1)\n",
        "  return img\n",
        "\n",
        "def visualize_batched(x, c=4):\n",
        "  x = x[:,:c,:,:].cpu().numpy()\n",
        "  vis1 = np.hstack(np.transpose(x, (0,2,3,1)))\n",
        "  plt.imshow(vis1)\n",
        "  plt.show()\n",
        "\n",
        "\n",
        "def get_X_values(x, mask=None):\n",
        "  # X values\n",
        "  percieved_images = percieve(x)\n",
        "  X_img = percieved_images[0]\n",
        "\n",
        "  # TODO - optional mask here? \n",
        "  X_img = X_img if mask==None else (X_img[None,...] * mask)[0]\n",
        "\n",
        "  X_seq_un_clean = image_to_sentences(X_img)\n",
        "  valid_instances = (torch.tensor(X_seq_un_clean).bool().float().sum(dim=-1) != 0).nonzero().flatten().long()\n",
        "\n",
        "  X_seq_cleaned = X_seq_un_clean[valid_instances]\n",
        "\n",
        "  X_seq = tokenize(X_seq_cleaned)\n",
        "  return valid_instances, X_seq\n",
        "\n",
        "\n",
        "# X - 4d tensor - maybe move this\n",
        "def get_input_values(x):\n",
        "  step_output_float_mask = get_dilatied_mask(x).to(device)\n",
        "\n",
        "  valid_instances, X_seq = get_X_values(x)\n",
        "\n",
        "  return step_output_float_mask, valid_instances, X_seq\n",
        "\n",
        "def get_update_values(x, step_float, seen_float):\n",
        "  training_float = (step_float.bool() ^ seen_float.bool()).float()\n",
        "  seen_float = (training_float.bool() | seen_float.bool()).float()\n",
        "\n",
        "  # TODO - use training float to extract valid instances\n",
        "  valid_instances, X_seq = get_X_values(x, training_float)\n",
        "\n",
        "  return training_float, valid_instances, X_seq, seen_float\n",
        "\n",
        "def get_X0():\n",
        "  x0 = np.repeat(seed[None,...], IMAGE_BATCH_SIZE, 0)\n",
        "  x0 = torch.Tensor(x0).to(device)\n",
        "  return x0\n",
        "\n",
        "\n"
      ],
      "execution_count": null,
      "outputs": []
    },
    {
      "cell_type": "code",
      "metadata": {
        "id": "exA36QjGVKIE"
      },
      "source": [
        "#@title Generate Method { vertical-output: true}\n",
        "SENTENCE_BATCH = 32\n",
        "\n",
        "def generate(encoder, decoder, x, EVAL_STEPS, disable=False):\n",
        "  encoder.eval(), decoder.eval()\n",
        "\n",
        "  for step in tqdm.auto.tqdm(range(EVAL_STEPS), mininterval=1., desc='evaluation step', disable=disable):\n",
        "    output_seq = torch.zeros(SENTENCES, CHANNEL_N).long().to(device)\n",
        "\n",
        "    step_output_float_mask, update_instances, X_seq = get_input_values(x)\n",
        "\n",
        "    update_instances = update_instances\n",
        "\n",
        "    dataset = CellEvaluating(X_seq)\n",
        "    eval_data_loader = DataLoader(dataset=dataset, batch_size=SENTENCE_BATCH, shuffle=False)\n",
        "    \n",
        "    generated= torch.zeros(X_seq.shape[0], CHANNEL_N).long().to(device)\n",
        "\n",
        "    for batch_i , (src, src_mask) in enumerate(eval_data_loader):\n",
        "      start_tokens = (torch.ones((src.shape[0], 1)) * 1).long().to(device)\n",
        "\n",
        "      context = encoder(src)\n",
        "      \n",
        "      sample = decoder.generate(start_tokens, DEC_SEQ_LEN , context = context)\n",
        "      predicted_cells = sample[:, - CHANNEL_N: ]\n",
        "      s = batch_i*SENTENCE_BATCH\n",
        "      \n",
        "      locations = torch.arange(s,s+predicted_cells.shape[0])\n",
        "\n",
        "      generated[locations] = predicted_cells\n",
        "\n",
        "    output_seq[update_instances] = detokenize(generated)\n",
        "    output_img = sentences_to_image(output_seq, x.shape[2], x.shape[3])\n",
        "    \n",
        "    x = output_img[None,...]\n",
        "\n",
        "  return x\n"
      ],
      "execution_count": null,
      "outputs": []
    },
    {
      "cell_type": "code",
      "metadata": {
        "id": "EcdcBJKw-AT-"
      },
      "source": [
        "def create_training_dataset(encoder=None, decoder=None, MAX_STEPS=None):\n",
        "  x0 = get_X0()\n",
        "  x = x0\n",
        "  prev_N = None\n",
        "  seen_float = (get_living_mask(x).float() * 0).to(device);\n",
        "\n",
        "  steps = 0\n",
        "\n",
        "  x_values = []\n",
        "  y_values = []\n",
        "\n",
        "  is_model = encoder!=None and decoder!=None\n",
        "\n",
        "  while (prev_N != 0 and (MAX_STEPS==None or steps<MAX_STEPS)):\n",
        "\n",
        "    step_output_float_mask, valid_instances, X_seq = get_input_values(x)\n",
        "\n",
        "    u_step_output_float_mask, u_valid_instances, u_X_seq, seen_float = get_update_values(x, step_output_float_mask, seen_float)\n",
        "    N = len(u_valid_instances)\n",
        "    prev_N = N\n",
        "    if (N != 0):\n",
        "      steps+=1\n",
        "      training_float_mask, valid_instances, X_seq = u_step_output_float_mask, u_valid_instances, u_X_seq\n",
        "    else:\n",
        "      training_float_mask = step_output_float_mask\n",
        "\n",
        "    y_target = mask_target(training_float_mask.bool().float())[0]\n",
        "\n",
        "    # Prefix\n",
        "    prefix = get_start_tokens(X_seq.shape[0])\n",
        "\n",
        "    # Y valyes from target\n",
        "    y_seq_un_cleaned = image_to_sentences(y_target)\n",
        "    y_seq_cleaned = y_seq_un_cleaned[valid_instances]\n",
        "    y_seq = tokenize(y_seq_cleaned)\n",
        "    Y_seq = torch.cat([prefix, y_seq], 1)\n",
        "\n",
        "    # Add X_seq, Y_seq to a dataset\n",
        "    x_values.append(X_seq)\n",
        "    y_values.append(Y_seq)\n",
        "\n",
        "    if is_model:\n",
        "      # Self generated training\n",
        "      x = generate(encoder, decoder, x, 1, disable=True)\n",
        "      x = x * step_output_float_mask.bool().float()\n",
        "    else:\n",
        "      # Default training.\n",
        "      x = mask_target(step_output_float_mask.bool().float()).to(device)\n",
        "\n",
        "  X_seqs = torch.cat(x_values, 0)\n",
        "  Y_seqs = torch.cat(y_values, 0)\n",
        "  training_dataset = CellTraining(X_seqs, Y_seqs)\n",
        "  return training_dataset, steps, x_values, y_values\n"
      ],
      "execution_count": null,
      "outputs": []
    },
    {
      "cell_type": "code",
      "metadata": {
        "id": "rauI0LDQspNg"
      },
      "source": [
        "\n",
        "# training\n",
        "\n",
        "def train_and_eval(enc, dec, data_set, TRAIN_ON=True, EVAL_EVERY=50, VISUALISE_EVERY=50, TRAINING_STEPS=EPOCHS):\n",
        "  print('LEN DATASET', len(data_set))\n",
        "  log_loss = []\n",
        "  next_token_loss = [['EPOCH', 'STEP', 'LOSS']]\n",
        "  epoch_losses = []\n",
        "  epoch_mean_losses = []\n",
        "\n",
        "  data_loader = DataLoader(dataset=training_dataset, batch_size=64, shuffle=True)\n",
        "\n",
        "  for i in tqdm.tqdm(range(1,TRAINING_STEPS + 1), mininterval=10., desc='training epochs'):\n",
        "      if (TRAIN_ON):\n",
        "        losses = []    \n",
        "        enc.train(), dec.train()\n",
        "        for batch_i , (src, tgt, src_mask, tgt_mask) in enumerate(data_loader):\n",
        "          context = enc(src, input_mask = src_mask)\n",
        "          loss = dec(tgt, context = context, input_mask = tgt_mask, context_mask = src_mask, return_loss = True)\n",
        "          loss.backward()\n",
        "          loss_value = loss.item()\n",
        "          next_token_loss.append([i, batch_i, loss_value])\n",
        "          losses.append(loss_value)\n",
        "          optim.step()\n",
        "          optim.zero_grad()\n",
        "\n",
        "        epoch_mean_losses.append(sum(losses)/len(losses)  )\n",
        "        epoch_losses.append(losses)\n",
        "\n",
        "      # Generate:\n",
        "      if (EVAL_STEPS > 0 and i % EVAL_EVERY == 0):\n",
        "        x = get_X0()\n",
        "\n",
        "        x = generate(enc, dec, x, EVAL_STEPS)\n",
        "\n",
        "        un_clean_loss = t_loss_f(x)\n",
        "        lo_n = loss_score(un_clean_loss)\n",
        "        log_loss.append(lo_n)\n",
        "\n",
        "        if (lo_n < -4):\n",
        "          print('Early threshold Exit..')\n",
        "          break\n",
        "\n",
        "      # Visualise progress\n",
        "      if (i % VISUALISE_EVERY == 0):\n",
        "        visualize_batched(x.detach().clone())\n",
        "        plt.figure()\n",
        "        for ep, l in enumerate(epoch_losses):\n",
        "          plt.plot(l, label=f'EPOCH-{i+ep}')\n",
        "\n",
        "        plt.xlabel(\"Step\")\n",
        "        plt.ylabel(\"Loss\")\n",
        "        plt.title(f\"epoch-{i}\")\n",
        "        # plt.legend()\n",
        "        plt.show()\n",
        "        epoch_losses = []\n",
        "\n",
        "        plt.figure()\n",
        "        plt.plot(epoch_mean_losses)\n",
        "\n",
        "        plt.xlabel(\"epoch\")\n",
        "        plt.ylabel(\"Loss\")\n",
        "        plt.title(f\"Training Loses Over Epochs\")\n",
        "        plt.show()\n",
        "\n",
        "        if (len(log_loss) > 0):\n",
        "          plt.figure()\n",
        "          plt.plot(log_loss, label=f'EPOCH-{i+ep}')\n",
        "\n",
        "          plt.xlabel(f\"every - {EVAL_EVERY-1} training steps\")\n",
        "          plt.ylabel(\"Loss\")\n",
        "          plt.title(\"Log Loss\")\n",
        "          plt.show()\n",
        "\n",
        "  return enc, dec\n",
        "\n",
        "\n"
      ],
      "execution_count": null,
      "outputs": []
    },
    {
      "cell_type": "code",
      "metadata": {
        "colab": {
          "base_uri": "https://localhost:8080/"
        },
        "id": "2wbe5tHcSF4J",
        "outputId": "e7e21074-c470-4999-a72c-c62b64e71417"
      },
      "source": [
        "training_dataset, EVAL_STEPS, _, __ = create_training_dataset()\n",
        "print('LEN DATASET', len(training_dataset))"
      ],
      "execution_count": null,
      "outputs": [
        {
          "output_type": "stream",
          "text": [
            "LEN DATASET 2612\n"
          ],
          "name": "stdout"
        },
        {
          "output_type": "stream",
          "text": [
            "/usr/local/lib/python3.7/dist-packages/ipykernel_launcher.py:85: UserWarning: To copy construct from a tensor, it is recommended to use sourceTensor.clone().detach() or sourceTensor.clone().detach().requires_grad_(True), rather than torch.tensor(sourceTensor).\n"
          ],
          "name": "stderr"
        }
      ]
    },
    {
      "cell_type": "code",
      "metadata": {
        "colab": {
          "base_uri": "https://localhost:8080/",
          "height": 1000,
          "referenced_widgets": [
            "b7a5096ab2894b409f0a87e88b3839ab",
            "db5da783d7f24b04a528adaf0f51aa53",
            "da12d772777344ca9d391707c82fdb7e",
            "4068fb74269e48a890578d7a68afe1e4",
            "93a0d320687d481a830acf7545f4bdf4",
            "485b29853e4e46a99b1e14c4663b86ec",
            "1f64555fd56d46939497f49f8266033b",
            "45a3b65386fc4ce3ae0ef42ee9f8bae2",
            "0213bb3d2c3c4c6584ac497aec943be2",
            "45a0dc001a354d08bb7062c3887312d4",
            "5196ff7378aa4ce09c8c460645eb1561",
            "5ab057d0bb5043e491fb45694191fad9",
            "cd60306707564178967b94262639541c",
            "b10b9cced40f4400a66495a68c6d6a1e",
            "7f555902c83f488686d71d980019c36f",
            "e9469e8ec4f9441f9cbf070373a97fee",
            "73d7496fbb9647feba6eeac3bfa5faa7",
            "184f15a4b07e4036b911693d4377ff90",
            "33607fd330704142acf7a66d6863e9e3",
            "e79512010d2c4d2cb53935f583248a77",
            "d04092ec08c74036bd2294c6b7a4502e",
            "d71ccb351bff43ad961adb446aa2b03b",
            "d61766f3a31142f695887ebcde1037ff",
            "2edcf2f5233b4f4b8475c09ffc236a95"
          ]
        },
        "id": "5wVWObOcGJPv",
        "outputId": "8280d14f-eda7-4faf-dc6d-efb0667df54d"
      },
      "source": [
        "#@title Training { vertical-output: true}\n",
        "\n",
        "# training\n",
        "\n",
        "TRAIN_ON=True \n",
        "EVAL_EVERY=50\n",
        "VISUALISE_EVERY = 50\n",
        "\n",
        "log_loss = []\n",
        "next_token_loss = [['EPOCH', 'STEP', 'LOSS']]\n",
        "epoch_losses = []\n",
        "epoch_mean_losses = []\n",
        "\n",
        "training_dataset, EVAL_STEPS, X_dataset, Y_dataset = create_training_dataset()\n",
        "data_loader = DataLoader(dataset=training_dataset, batch_size=64, shuffle=True)\n",
        "\n",
        "TRAINING_STEPS = EPOCHS\n",
        "# enc,dec = train_and_eval(enc, dec, TRAIN_ON=True, EVAL_EVERY=50, VISUALISE_EVERY=50, data_set, TRAINING_STEPS=EPOCHS)\n",
        "# Additional 50: 50, 50, EPOCHS\n",
        "enc,dec = train_and_eval(enc, dec,training_dataset, True, 50, 50,EPOCHS)\n",
        "\n",
        "\n",
        "\n",
        "\n",
        "\n"
      ],
      "execution_count": 21,
      "outputs": [
        {
          "output_type": "stream",
          "text": [
            "/usr/local/lib/python3.7/dist-packages/ipykernel_launcher.py:85: UserWarning: To copy construct from a tensor, it is recommended to use sourceTensor.clone().detach() or sourceTensor.clone().detach().requires_grad_(True), rather than torch.tensor(sourceTensor).\n",
            "training epochs:   0%|          | 0/200 [00:00<?, ?it/s]"
          ],
          "name": "stderr"
        },
        {
          "output_type": "stream",
          "text": [
            "LEN DATASET 2612\n"
          ],
          "name": "stdout"
        },
        {
          "output_type": "stream",
          "text": [
            "training epochs:  24%|██▍       | 49/200 [29:29<1:30:58, 36.15s/it]"
          ],
          "name": "stderr"
        },
        {
          "output_type": "display_data",
          "data": {
            "application/vnd.jupyter.widget-view+json": {
              "model_id": "b7a5096ab2894b409f0a87e88b3839ab",
              "version_minor": 0,
              "version_major": 2
            },
            "text/plain": [
              "HBox(children=(FloatProgress(value=0.0, description='evaluation step', max=23.0, style=ProgressStyle(descripti…"
            ]
          },
          "metadata": {
            "tags": []
          }
        },
        {
          "output_type": "stream",
          "text": [
            "\n"
          ],
          "name": "stdout"
        },
        {
          "output_type": "display_data",
          "data": {
            "image/png": "[encoded data removed]",
            "text/plain": [
              "<Figure size 432x288 with 1 Axes>"
            ]
          },
          "metadata": {
            "tags": [],
            "needs_background": "light"
          }
        },
        {
          "output_type": "display_data",
          "data": {
            "image/png": "[encoded data removed]",
            "text/plain": [
              "<Figure size 432x288 with 1 Axes>"
            ]
          },
          "metadata": {
            "tags": [],
            "needs_background": "light"
          }
        },
        {
          "output_type": "display_data",
          "data": {
            "image/png": "[encoded data removed]",
            "text/plain": [
              "<Figure size 432x288 with 1 Axes>"
            ]
          },
          "metadata": {
            "tags": [],
            "needs_background": "light"
          }
        },
        {
          "output_type": "display_data",
          "data": {
            "image/png": "[encoded data removed]",
            "text/plain": [
              "<Figure size 432x288 with 1 Axes>"
            ]
          },
          "metadata": {
            "tags": [],
            "needs_background": "light"
          }
        },
        {
          "output_type": "stream",
          "text": [
            "training epochs:  50%|████▉     | 99/200 [1:01:54<1:00:31, 35.95s/it]"
          ],
          "name": "stderr"
        },
        {
          "output_type": "display_data",
          "data": {
            "application/vnd.jupyter.widget-view+json": {
              "model_id": "0213bb3d2c3c4c6584ac497aec943be2",
              "version_minor": 0,
              "version_major": 2
            },
            "text/plain": [
              "HBox(children=(FloatProgress(value=0.0, description='evaluation step', max=23.0, style=ProgressStyle(descripti…"
            ]
          },
          "metadata": {
            "tags": []
          }
        },
        {
          "output_type": "stream",
          "text": [
            "\n"
          ],
          "name": "stdout"
        },
        {
          "output_type": "display_data",
          "data": {
            "image/png": "[encoded data removed]",
            "text/plain": [
              "<Figure size 432x288 with 1 Axes>"
            ]
          },
          "metadata": {
            "tags": [],
            "needs_background": "light"
          }
        },
        {
          "output_type": "display_data",
          "data": {
            "image/png": "[encoded data removed]",
            "text/plain": [
              "<Figure size 432x288 with 1 Axes>"
            ]
          },
          "metadata": {
            "tags": [],
            "needs_background": "light"
          }
        },
        {
          "output_type": "display_data",
          "data": {
            "image/png": "[encoded data removed]",
            "text/plain": [
              "<Figure size 432x288 with 1 Axes>"
            ]
          },
          "metadata": {
            "tags": [],
            "needs_background": "light"
          }
        },
        {
          "output_type": "display_data",
          "data": {
            "image/png": "[encoded data removed]",
            "text/plain": [
              "<Figure size 432x288 with 1 Axes>"
            ]
          },
          "metadata": {
            "tags": [],
            "needs_background": "light"
          }
        },
        {
          "output_type": "stream",
          "text": [
            "training epochs:  74%|███████▍  | 149/200 [1:34:08<30:35, 35.99s/it]"
          ],
          "name": "stderr"
        },
        {
          "output_type": "display_data",
          "data": {
            "application/vnd.jupyter.widget-view+json": {
              "model_id": "73d7496fbb9647feba6eeac3bfa5faa7",
              "version_minor": 0,
              "version_major": 2
            },
            "text/plain": [
              "HBox(children=(FloatProgress(value=0.0, description='evaluation step', max=23.0, style=ProgressStyle(descripti…"
            ]
          },
          "metadata": {
            "tags": []
          }
        },
        {
          "output_type": "stream",
          "text": [
            "\n",
            "Early threshold Exit..\n"
          ],
          "name": "stdout"
        }
      ]
    },
    {
      "cell_type": "code",
      "metadata": {
        "id": "EYZGLN7Z9E4K"
      },
      "source": [
        "#@title Save Models { vertical-output: true}\n",
        "import time\n",
        "\n",
        "SAVE_MODEL= False\n",
        "if (SAVE_MODEL):\n",
        "  ts = str(time.time()).split('.')[0]\n",
        "  current_t = ts\n",
        "\n",
        "  ENC_FILE = f'./enc-{str(current_t)}.pth'\n",
        "  DEC_FILE = f'./dec-{str(current_t)}.pth'\n",
        "\n",
        "  torch.save(enc, ENC_FILE)\n",
        "  drive_path = f'/content/gdrive/My Drive/KCL CS/Year 4/PRJ/models/{ENC_FILE}'\n",
        "  shutil.copyfile(ENC_FILE, drive_path)\n",
        "\n",
        "  torch.save(dec, DEC_FILE)\n",
        "  drive_path = f'/content/gdrive/My Drive/KCL CS/Year 4/PRJ/models/{DEC_FILE}'\n",
        "  shutil.copyfile(DEC_FILE, drive_path)"
      ],
      "execution_count": 22,
      "outputs": []
    },
    {
      "cell_type": "code",
      "metadata": {
        "id": "DmZ8Q85s4DW_"
      },
      "source": [
        "# HELPER BLOCK? - Visualises last x again\n",
        "\n",
        "# cleaned_x =  cleaned_x_long(x, loss_target_mask) \n",
        "\n",
        "# visualize_batched(x)\n",
        "# visualize_batched(pad_target[None,...].long())\n",
        "# visualize_batched(cleaned_x)\n",
        "\n",
        "# to_diff = cleaned_x #cleaned_x\n",
        "\n",
        "# loss = t_loss_f(to_diff)\n",
        "# plot_loss_diff(loss)\n",
        "\n",
        "# print('TLOSS', loss_score(t_loss_f(x)) )\n",
        "# print('TLOSS CLEAN',loss_score(t_loss_f(x, clean=True)))"
      ],
      "execution_count": 23,
      "outputs": []
    },
    {
      "cell_type": "code",
      "metadata": {
        "id": "qA4t-8kevWxf"
      },
      "source": [
        "def generate_many(enc, dec, NUMBER_TO_GENERATE = 20, GEN_FROM_TARGET = False):\n",
        "  best_gen, best_score = None, float('inf')\n",
        "\n",
        "  for _ in tqdm.auto.tqdm(range(NUMBER_TO_GENERATE), mininterval=1., desc='generating images'):\n",
        "    GEN_FROM = cleaned_x_long(pad_target,loss_target_mask) if GEN_FROM_TARGET else get_X0()\n",
        "\n",
        "    x = generate(enc, dec, GEN_FROM, EVAL_STEPS, disable=True)\n",
        "    score = loss_score(t_loss_f(x, clean=True))\n",
        "    if score  < best_score:\n",
        "      best_score = score\n",
        "      best_gen = x\n",
        "    print(score)\n",
        "\n",
        "  print(best_score)\n",
        "  visualize_batched(cleaned_x_long(best_gen, loss_target_mask))\n",
        "  return best_gen\n"
      ],
      "execution_count": 24,
      "outputs": []
    },
    {
      "cell_type": "code",
      "metadata": {
        "id": "ambcN0ju88pT",
        "colab": {
          "base_uri": "https://localhost:8080/",
          "height": 1000,
          "referenced_widgets": [
            "2b968a9550c141bab35f2f1b32c743ed",
            "3a1d499ce5924fd888923b6b089a6110",
            "97fdf6d72d284328bf87e356c9573dd6",
            "b8469de05b9d496f8023ad2907d39870",
            "90d63e52e6fe464cb80ff4a78a8ac41a",
            "fab2d98885f24f2387d43e6b29132ae4",
            "c240b15bfa7b4afcb5ff1f4f2cb96571",
            "bd7b0e8f6fcf439e973294307a1903af"
          ]
        },
        "outputId": "f3b70843-4b44-4218-d77d-09e1f6bf3652"
      },
      "source": [
        "#@title Multiple Image Generation { vertical-output: true}\n",
        "best_gen = generate_many(enc, dec, 20, False)\n",
        "visualize_batched(best_gen)\n",
        "plot_loss_diff(t_loss_f(best_gen, clean=True))\n",
        "\n"
      ],
      "execution_count": 25,
      "outputs": [
        {
          "output_type": "display_data",
          "data": {
            "application/vnd.jupyter.widget-view+json": {
              "model_id": "2b968a9550c141bab35f2f1b32c743ed",
              "version_minor": 0,
              "version_major": 2
            },
            "text/plain": [
              "HBox(children=(FloatProgress(value=0.0, description='generating images', max=20.0, style=ProgressStyle(descrip…"
            ]
          },
          "metadata": {
            "tags": []
          }
        },
        {
          "output_type": "stream",
          "text": [
            "/usr/local/lib/python3.7/dist-packages/ipykernel_launcher.py:85: UserWarning: To copy construct from a tensor, it is recommended to use sourceTensor.clone().detach() or sourceTensor.clone().detach().requires_grad_(True), rather than torch.tensor(sourceTensor).\n"
          ],
          "name": "stderr"
        },
        {
          "output_type": "stream",
          "text": [
            "-4.0065184\n",
            "-3.8431711\n",
            "-4.488098\n",
            "-3.8817995\n",
            "-4.2857695\n",
            "-3.5835607\n",
            "-3.9732141\n",
            "-4.1447577\n",
            "-4.026401\n",
            "-3.8661604\n",
            "-4.3898845\n",
            "-4.396964\n",
            "-4.1488814\n",
            "-3.6267703\n",
            "-4.688556\n",
            "-3.89943\n",
            "-4.5620947\n",
            "-3.4435084\n",
            "-3.8839686\n",
            "-4.2543206\n",
            "\n",
            "-4.688556\n"
          ],
          "name": "stdout"
        },
        {
          "output_type": "display_data",
          "data": {
            "image/png": "[encoded data removed]",
            "text/plain": [
              "<Figure size 432x288 with 1 Axes>"
            ]
          },
          "metadata": {
            "tags": [],
            "needs_background": "light"
          }
        },
        {
          "output_type": "display_data",
          "data": {
            "image/png": "[encoded data removed]",
            "text/plain": [
              "<Figure size 432x288 with 1 Axes>"
            ]
          },
          "metadata": {
            "tags": [],
            "needs_background": "light"
          }
        },
        {
          "output_type": "display_data",
          "data": {
            "image/png": "[encoded data removed]",
            "text/plain": [
              "<Figure size 432x288 with 2 Axes>"
            ]
          },
          "metadata": {
            "tags": [],
            "needs_background": "light"
          }
        }
      ]
    },
    {
      "cell_type": "code",
      "metadata": {
        "id": "x5ZtvcnrlO4C"
      },
      "source": [
        "#@title Additional Training !!! { vertical-output: true}\n",
        "\n",
        "additional_x = X_dataset\n",
        "additional_y = Y_dataset\n",
        "\n",
        "for _ in range(7):\n",
        "  self_training_dataset, self_EVAL_STEPS, self_X_dataset, self_Y_dataset = create_training_dataset(enc, dec, EVAL_STEPS+1)\n",
        "  additional_x += self_X_dataset\n",
        "  additional_y += self_Y_dataset\n",
        "\n",
        "additional_X_seqs = torch.cat(additional_x, 0)\n",
        "additional_Y_seqs = torch.cat(additional_y, 0)\n",
        "additional_training_dataset = CellTraining(additional_X_seqs, additional_Y_seqs)\n",
        "\n"
      ],
      "execution_count": null,
      "outputs": []
    },
    {
      "cell_type": "code",
      "metadata": {
        "id": "KjnSJW6WQf_E"
      },
      "source": [
        "enc,dec = train_and_eval(enc, dec, additional_training_dataset, True, 10, 10, 30)"
      ],
      "execution_count": null,
      "outputs": []
    },
    {
      "cell_type": "code",
      "metadata": {
        "id": "-mUQEQIdv9tp"
      },
      "source": [
        "best_gen = generate_many(enc, dec, 20, False)\n",
        "# best_gen = generate_many(enc, dec, 20, False)\n",
        "visualize_batched(best_gen)\n",
        "plot_loss_diff(t_loss_f(best_gen, clean=True))"
      ],
      "execution_count": null,
      "outputs": []
    },
    {
      "cell_type": "code",
      "metadata": {
        "id": "6aF0firhfb4M"
      },
      "source": [
        "#@title Persistance Tests { vertical-output: true}\n",
        "\n",
        "# START_FROM_TARGET = False  # False will start from best generated, True from target position. \n",
        "# CLEANED_BEST_GEN = True\n",
        "\n",
        "# ROUNDS = 3 \n",
        "# SCORE_EVERY = 10\n",
        "# # TOTAL STEPS = ROUNDS * SCORE_EVERY\n",
        "\n",
        "# c_scores = []\n",
        "# uc_scores = []\n",
        "\n",
        "# # use best generated or use target state? \n",
        "# bg = cleaned_x_long(best_gen, loss_target_mask) if CLEANED_BEST_GEN else best_gen\n",
        "# x = cleaned_x_long(pad_target,loss_target_mask) if START_FROM_TARGET else bg\n",
        "\n",
        "# for _ in tqdm.auto.tqdm(range(ROUNDS), mininterval=1., desc='persistent experiementing...'):\n",
        "#   x = generate(enc, dec, x, SCORE_EVERY, disable=True)\n",
        "#   unmasked_score = loss_score(t_loss_f(x, clean=False))\n",
        "#   uc_scores.append(unmasked_score)\n",
        "\n",
        "#   masked_score = loss_score(t_loss_f(x, clean=True))\n",
        "#   c_scores.append(masked_score)\n",
        "\n",
        "# print(c_scores)\n",
        "# print(uc_scores)\n",
        "\n"
      ],
      "execution_count": null,
      "outputs": []
    },
    {
      "cell_type": "code",
      "metadata": {
        "id": "MbM85fuij1GZ"
      },
      "source": [
        "# print(c_scores)\n",
        "# print(uc_scores)\n"
      ],
      "execution_count": null,
      "outputs": []
    },
    {
      "cell_type": "code",
      "metadata": {
        "id": "JuSAvoY2oQyG"
      },
      "source": [
        "# visualize_batched(x)\n",
        "# visualize_batched(cleaned_x_long(x, loss_target_mask))\n",
        "\n",
        "\n",
        "# loss = t_loss_f(x)\n",
        "# plot_loss_diff(loss)"
      ],
      "execution_count": null,
      "outputs": []
    }
  ]
}