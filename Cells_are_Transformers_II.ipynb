{
  "nbformat": 4,
  "nbformat_minor": 0,
  "metadata": {
    "colab": {
      "name": "Cells are Transformers II",
      "provenance": [],
      "collapsed_sections": [],
      "authorship_tag": "ABX9TyNt/z7h5gzKrGI6eoa97y0c",
      "include_colab_link": true
    },
    "kernelspec": {
      "name": "python3",
      "display_name": "Python 3"
    },
    "accelerator": "GPU",
    "widgets": {
      "application/vnd.jupyter.widget-state+json": {
        "c204b6148f1b4dd4878aaf327297e59a": {
          "model_module": "@jupyter-widgets/controls",
          "model_name": "HBoxModel",
          "state": {
            "_view_name": "HBoxView",
            "_dom_classes": [],
            "_model_name": "HBoxModel",
            "_view_module": "@jupyter-widgets/controls",
            "_model_module_version": "1.5.0",
            "_view_count": null,
            "_view_module_version": "1.5.0",
            "box_style": "",
            "layout": "IPY_MODEL_f6c6ae84be3d4c989b02d4682a03579a",
            "_model_module": "@jupyter-widgets/controls",
            "children": [
              "IPY_MODEL_bf2cf3c0b4fb4172aebae33156c96941",
              "IPY_MODEL_07c1eb61c91e49c6b6c440dd1d018305"
            ]
          }
        },
        "f6c6ae84be3d4c989b02d4682a03579a": {
          "model_module": "@jupyter-widgets/base",
          "model_name": "LayoutModel",
          "state": {
            "_view_name": "LayoutView",
            "grid_template_rows": null,
            "right": null,
            "justify_content": null,
            "_view_module": "@jupyter-widgets/base",
            "overflow": null,
            "_model_module_version": "1.2.0",
            "_view_count": null,
            "flex_flow": null,
            "width": null,
            "min_width": null,
            "border": null,
            "align_items": null,
            "bottom": null,
            "_model_module": "@jupyter-widgets/base",
            "top": null,
            "grid_column": null,
            "overflow_y": null,
            "overflow_x": null,
            "grid_auto_flow": null,
            "grid_area": null,
            "grid_template_columns": null,
            "flex": null,
            "_model_name": "LayoutModel",
            "justify_items": null,
            "grid_row": null,
            "max_height": null,
            "align_content": null,
            "visibility": null,
            "align_self": null,
            "height": null,
            "min_height": null,
            "padding": null,
            "grid_auto_rows": null,
            "grid_gap": null,
            "max_width": null,
            "order": null,
            "_view_module_version": "1.2.0",
            "grid_template_areas": null,
            "object_position": null,
            "object_fit": null,
            "grid_auto_columns": null,
            "margin": null,
            "display": null,
            "left": null
          }
        },
        "bf2cf3c0b4fb4172aebae33156c96941": {
          "model_module": "@jupyter-widgets/controls",
          "model_name": "FloatProgressModel",
          "state": {
            "_view_name": "ProgressView",
            "style": "IPY_MODEL_816a89dc43fb48d9a202bcdfb1578970",
            "_dom_classes": [],
            "description": "evaluation step: 100%",
            "_model_name": "FloatProgressModel",
            "bar_style": "success",
            "max": 21,
            "_view_module": "@jupyter-widgets/controls",
            "_model_module_version": "1.5.0",
            "value": 21,
            "_view_count": null,
            "_view_module_version": "1.5.0",
            "orientation": "horizontal",
            "min": 0,
            "description_tooltip": null,
            "_model_module": "@jupyter-widgets/controls",
            "layout": "IPY_MODEL_2720e2075e2a4f4aa655ac470689c32e"
          }
        },
        "07c1eb61c91e49c6b6c440dd1d018305": {
          "model_module": "@jupyter-widgets/controls",
          "model_name": "HTMLModel",
          "state": {
            "_view_name": "HTMLView",
            "style": "IPY_MODEL_c853fa7e3ca5420880e2cb57f21714ff",
            "_dom_classes": [],
            "description": "",
            "_model_name": "HTMLModel",
            "placeholder": "​",
            "_view_module": "@jupyter-widgets/controls",
            "_model_module_version": "1.5.0",
            "value": " 21/21 [25:06&lt;00:00, 71.72s/it]",
            "_view_count": null,
            "_view_module_version": "1.5.0",
            "description_tooltip": null,
            "_model_module": "@jupyter-widgets/controls",
            "layout": "IPY_MODEL_0684d0de505842a5a05f9dbd8a3a5976"
          }
        },
        "816a89dc43fb48d9a202bcdfb1578970": {
          "model_module": "@jupyter-widgets/controls",
          "model_name": "ProgressStyleModel",
          "state": {
            "_view_name": "StyleView",
            "_model_name": "ProgressStyleModel",
            "description_width": "initial",
            "_view_module": "@jupyter-widgets/base",
            "_model_module_version": "1.5.0",
            "_view_count": null,
            "_view_module_version": "1.2.0",
            "bar_color": null,
            "_model_module": "@jupyter-widgets/controls"
          }
        },
        "2720e2075e2a4f4aa655ac470689c32e": {
          "model_module": "@jupyter-widgets/base",
          "model_name": "LayoutModel",
          "state": {
            "_view_name": "LayoutView",
            "grid_template_rows": null,
            "right": null,
            "justify_content": null,
            "_view_module": "@jupyter-widgets/base",
            "overflow": null,
            "_model_module_version": "1.2.0",
            "_view_count": null,
            "flex_flow": null,
            "width": null,
            "min_width": null,
            "border": null,
            "align_items": null,
            "bottom": null,
            "_model_module": "@jupyter-widgets/base",
            "top": null,
            "grid_column": null,
            "overflow_y": null,
            "overflow_x": null,
            "grid_auto_flow": null,
            "grid_area": null,
            "grid_template_columns": null,
            "flex": null,
            "_model_name": "LayoutModel",
            "justify_items": null,
            "grid_row": null,
            "max_height": null,
            "align_content": null,
            "visibility": null,
            "align_self": null,
            "height": null,
            "min_height": null,
            "padding": null,
            "grid_auto_rows": null,
            "grid_gap": null,
            "max_width": null,
            "order": null,
            "_view_module_version": "1.2.0",
            "grid_template_areas": null,
            "object_position": null,
            "object_fit": null,
            "grid_auto_columns": null,
            "margin": null,
            "display": null,
            "left": null
          }
        },
        "c853fa7e3ca5420880e2cb57f21714ff": {
          "model_module": "@jupyter-widgets/controls",
          "model_name": "DescriptionStyleModel",
          "state": {
            "_view_name": "StyleView",
            "_model_name": "DescriptionStyleModel",
            "description_width": "",
            "_view_module": "@jupyter-widgets/base",
            "_model_module_version": "1.5.0",
            "_view_count": null,
            "_view_module_version": "1.2.0",
            "_model_module": "@jupyter-widgets/controls"
          }
        },
        "0684d0de505842a5a05f9dbd8a3a5976": {
          "model_module": "@jupyter-widgets/base",
          "model_name": "LayoutModel",
          "state": {
            "_view_name": "LayoutView",
            "grid_template_rows": null,
            "right": null,
            "justify_content": null,
            "_view_module": "@jupyter-widgets/base",
            "overflow": null,
            "_model_module_version": "1.2.0",
            "_view_count": null,
            "flex_flow": null,
            "width": null,
            "min_width": null,
            "border": null,
            "align_items": null,
            "bottom": null,
            "_model_module": "@jupyter-widgets/base",
            "top": null,
            "grid_column": null,
            "overflow_y": null,
            "overflow_x": null,
            "grid_auto_flow": null,
            "grid_area": null,
            "grid_template_columns": null,
            "flex": null,
            "_model_name": "LayoutModel",
            "justify_items": null,
            "grid_row": null,
            "max_height": null,
            "align_content": null,
            "visibility": null,
            "align_self": null,
            "height": null,
            "min_height": null,
            "padding": null,
            "grid_auto_rows": null,
            "grid_gap": null,
            "max_width": null,
            "order": null,
            "_view_module_version": "1.2.0",
            "grid_template_areas": null,
            "object_position": null,
            "object_fit": null,
            "grid_auto_columns": null,
            "margin": null,
            "display": null,
            "left": null
          }
        },
        "3c5cd1d91b1d456fbc68b52fddf5ab59": {
          "model_module": "@jupyter-widgets/controls",
          "model_name": "HBoxModel",
          "state": {
            "_view_name": "HBoxView",
            "_dom_classes": [],
            "_model_name": "HBoxModel",
            "_view_module": "@jupyter-widgets/controls",
            "_model_module_version": "1.5.0",
            "_view_count": null,
            "_view_module_version": "1.5.0",
            "box_style": "",
            "layout": "IPY_MODEL_bbfcf43a87a64fd38f813ac60ddb802e",
            "_model_module": "@jupyter-widgets/controls",
            "children": [
              "IPY_MODEL_644033dec8bb428d9ef4d0d5c26ae6f5",
              "IPY_MODEL_60141fe63f174681a7f5598d6a5e0ce1"
            ]
          }
        },
        "bbfcf43a87a64fd38f813ac60ddb802e": {
          "model_module": "@jupyter-widgets/base",
          "model_name": "LayoutModel",
          "state": {
            "_view_name": "LayoutView",
            "grid_template_rows": null,
            "right": null,
            "justify_content": null,
            "_view_module": "@jupyter-widgets/base",
            "overflow": null,
            "_model_module_version": "1.2.0",
            "_view_count": null,
            "flex_flow": null,
            "width": null,
            "min_width": null,
            "border": null,
            "align_items": null,
            "bottom": null,
            "_model_module": "@jupyter-widgets/base",
            "top": null,
            "grid_column": null,
            "overflow_y": null,
            "overflow_x": null,
            "grid_auto_flow": null,
            "grid_area": null,
            "grid_template_columns": null,
            "flex": null,
            "_model_name": "LayoutModel",
            "justify_items": null,
            "grid_row": null,
            "max_height": null,
            "align_content": null,
            "visibility": null,
            "align_self": null,
            "height": null,
            "min_height": null,
            "padding": null,
            "grid_auto_rows": null,
            "grid_gap": null,
            "max_width": null,
            "order": null,
            "_view_module_version": "1.2.0",
            "grid_template_areas": null,
            "object_position": null,
            "object_fit": null,
            "grid_auto_columns": null,
            "margin": null,
            "display": null,
            "left": null
          }
        },
        "644033dec8bb428d9ef4d0d5c26ae6f5": {
          "model_module": "@jupyter-widgets/controls",
          "model_name": "FloatProgressModel",
          "state": {
            "_view_name": "ProgressView",
            "style": "IPY_MODEL_eec23a84f3504177812bf7082a348a34",
            "_dom_classes": [],
            "description": "generating images: 100%",
            "_model_name": "FloatProgressModel",
            "bar_style": "success",
            "max": 20,
            "_view_module": "@jupyter-widgets/controls",
            "_model_module_version": "1.5.0",
            "value": 20,
            "_view_count": null,
            "_view_module_version": "1.5.0",
            "orientation": "horizontal",
            "min": 0,
            "description_tooltip": null,
            "_model_module": "@jupyter-widgets/controls",
            "layout": "IPY_MODEL_2410299cc5834dc49c678e13d8889f38"
          }
        },
        "60141fe63f174681a7f5598d6a5e0ce1": {
          "model_module": "@jupyter-widgets/controls",
          "model_name": "HTMLModel",
          "state": {
            "_view_name": "HTMLView",
            "style": "IPY_MODEL_f1c423312a56469083e8164c4a10275f",
            "_dom_classes": [],
            "description": "",
            "_model_name": "HTMLModel",
            "placeholder": "​",
            "_view_module": "@jupyter-widgets/controls",
            "_model_module_version": "1.5.0",
            "value": " 20/20 [24:01&lt;00:00, 72.08s/it]",
            "_view_count": null,
            "_view_module_version": "1.5.0",
            "description_tooltip": null,
            "_model_module": "@jupyter-widgets/controls",
            "layout": "IPY_MODEL_885a84d648b74f54b18ed720248e9eec"
          }
        },
        "eec23a84f3504177812bf7082a348a34": {
          "model_module": "@jupyter-widgets/controls",
          "model_name": "ProgressStyleModel",
          "state": {
            "_view_name": "StyleView",
            "_model_name": "ProgressStyleModel",
            "description_width": "initial",
            "_view_module": "@jupyter-widgets/base",
            "_model_module_version": "1.5.0",
            "_view_count": null,
            "_view_module_version": "1.2.0",
            "bar_color": null,
            "_model_module": "@jupyter-widgets/controls"
          }
        },
        "2410299cc5834dc49c678e13d8889f38": {
          "model_module": "@jupyter-widgets/base",
          "model_name": "LayoutModel",
          "state": {
            "_view_name": "LayoutView",
            "grid_template_rows": null,
            "right": null,
            "justify_content": null,
            "_view_module": "@jupyter-widgets/base",
            "overflow": null,
            "_model_module_version": "1.2.0",
            "_view_count": null,
            "flex_flow": null,
            "width": null,
            "min_width": null,
            "border": null,
            "align_items": null,
            "bottom": null,
            "_model_module": "@jupyter-widgets/base",
            "top": null,
            "grid_column": null,
            "overflow_y": null,
            "overflow_x": null,
            "grid_auto_flow": null,
            "grid_area": null,
            "grid_template_columns": null,
            "flex": null,
            "_model_name": "LayoutModel",
            "justify_items": null,
            "grid_row": null,
            "max_height": null,
            "align_content": null,
            "visibility": null,
            "align_self": null,
            "height": null,
            "min_height": null,
            "padding": null,
            "grid_auto_rows": null,
            "grid_gap": null,
            "max_width": null,
            "order": null,
            "_view_module_version": "1.2.0",
            "grid_template_areas": null,
            "object_position": null,
            "object_fit": null,
            "grid_auto_columns": null,
            "margin": null,
            "display": null,
            "left": null
          }
        },
        "f1c423312a56469083e8164c4a10275f": {
          "model_module": "@jupyter-widgets/controls",
          "model_name": "DescriptionStyleModel",
          "state": {
            "_view_name": "StyleView",
            "_model_name": "DescriptionStyleModel",
            "description_width": "",
            "_view_module": "@jupyter-widgets/base",
            "_model_module_version": "1.5.0",
            "_view_count": null,
            "_view_module_version": "1.2.0",
            "_model_module": "@jupyter-widgets/controls"
          }
        },
        "885a84d648b74f54b18ed720248e9eec": {
          "model_module": "@jupyter-widgets/base",
          "model_name": "LayoutModel",
          "state": {
            "_view_name": "LayoutView",
            "grid_template_rows": null,
            "right": null,
            "justify_content": null,
            "_view_module": "@jupyter-widgets/base",
            "overflow": null,
            "_model_module_version": "1.2.0",
            "_view_count": null,
            "flex_flow": null,
            "width": null,
            "min_width": null,
            "border": null,
            "align_items": null,
            "bottom": null,
            "_model_module": "@jupyter-widgets/base",
            "top": null,
            "grid_column": null,
            "overflow_y": null,
            "overflow_x": null,
            "grid_auto_flow": null,
            "grid_area": null,
            "grid_template_columns": null,
            "flex": null,
            "_model_name": "LayoutModel",
            "justify_items": null,
            "grid_row": null,
            "max_height": null,
            "align_content": null,
            "visibility": null,
            "align_self": null,
            "height": null,
            "min_height": null,
            "padding": null,
            "grid_auto_rows": null,
            "grid_gap": null,
            "max_width": null,
            "order": null,
            "_view_module_version": "1.2.0",
            "grid_template_areas": null,
            "object_position": null,
            "object_fit": null,
            "grid_auto_columns": null,
            "margin": null,
            "display": null,
            "left": null
          }
        },
        "a50f24f7c9da4200be9bb3c583d745eb": {
          "model_module": "@jupyter-widgets/controls",
          "model_name": "HBoxModel",
          "state": {
            "_view_name": "HBoxView",
            "_dom_classes": [],
            "_model_name": "HBoxModel",
            "_view_module": "@jupyter-widgets/controls",
            "_model_module_version": "1.5.0",
            "_view_count": null,
            "_view_module_version": "1.5.0",
            "box_style": "",
            "layout": "IPY_MODEL_2086aacf4c8240a8b643ca43c9ddb7db",
            "_model_module": "@jupyter-widgets/controls",
            "children": [
              "IPY_MODEL_233d5dd646b64ee18fb18b535bf66611",
              "IPY_MODEL_e5908b7450964870b5299fad5cb90933"
            ]
          }
        },
        "2086aacf4c8240a8b643ca43c9ddb7db": {
          "model_module": "@jupyter-widgets/base",
          "model_name": "LayoutModel",
          "state": {
            "_view_name": "LayoutView",
            "grid_template_rows": null,
            "right": null,
            "justify_content": null,
            "_view_module": "@jupyter-widgets/base",
            "overflow": null,
            "_model_module_version": "1.2.0",
            "_view_count": null,
            "flex_flow": null,
            "width": null,
            "min_width": null,
            "border": null,
            "align_items": null,
            "bottom": null,
            "_model_module": "@jupyter-widgets/base",
            "top": null,
            "grid_column": null,
            "overflow_y": null,
            "overflow_x": null,
            "grid_auto_flow": null,
            "grid_area": null,
            "grid_template_columns": null,
            "flex": null,
            "_model_name": "LayoutModel",
            "justify_items": null,
            "grid_row": null,
            "max_height": null,
            "align_content": null,
            "visibility": null,
            "align_self": null,
            "height": null,
            "min_height": null,
            "padding": null,
            "grid_auto_rows": null,
            "grid_gap": null,
            "max_width": null,
            "order": null,
            "_view_module_version": "1.2.0",
            "grid_template_areas": null,
            "object_position": null,
            "object_fit": null,
            "grid_auto_columns": null,
            "margin": null,
            "display": null,
            "left": null
          }
        },
        "233d5dd646b64ee18fb18b535bf66611": {
          "model_module": "@jupyter-widgets/controls",
          "model_name": "FloatProgressModel",
          "state": {
            "_view_name": "ProgressView",
            "style": "IPY_MODEL_f3fdef70627f423aa6a89821777d64fe",
            "_dom_classes": [],
            "description": "persistent experiementing...: 100%",
            "_model_name": "FloatProgressModel",
            "bar_style": "success",
            "max": 3,
            "_view_module": "@jupyter-widgets/controls",
            "_model_module_version": "1.5.0",
            "value": 3,
            "_view_count": null,
            "_view_module_version": "1.5.0",
            "orientation": "horizontal",
            "min": 0,
            "description_tooltip": null,
            "_model_module": "@jupyter-widgets/controls",
            "layout": "IPY_MODEL_a186fc02b927492b81cadc25818d73ea"
          }
        },
        "e5908b7450964870b5299fad5cb90933": {
          "model_module": "@jupyter-widgets/controls",
          "model_name": "HTMLModel",
          "state": {
            "_view_name": "HTMLView",
            "style": "IPY_MODEL_5588316df3ac40a4a67c66ac0fbfab4b",
            "_dom_classes": [],
            "description": "",
            "_model_name": "HTMLModel",
            "placeholder": "​",
            "_view_module": "@jupyter-widgets/controls",
            "_model_module_version": "1.5.0",
            "value": " 3/3 [02:13&lt;00:00, 44.50s/it]",
            "_view_count": null,
            "_view_module_version": "1.5.0",
            "description_tooltip": null,
            "_model_module": "@jupyter-widgets/controls",
            "layout": "IPY_MODEL_5e51ec1bb849421eb292abd73313a3e5"
          }
        },
        "f3fdef70627f423aa6a89821777d64fe": {
          "model_module": "@jupyter-widgets/controls",
          "model_name": "ProgressStyleModel",
          "state": {
            "_view_name": "StyleView",
            "_model_name": "ProgressStyleModel",
            "description_width": "initial",
            "_view_module": "@jupyter-widgets/base",
            "_model_module_version": "1.5.0",
            "_view_count": null,
            "_view_module_version": "1.2.0",
            "bar_color": null,
            "_model_module": "@jupyter-widgets/controls"
          }
        },
        "a186fc02b927492b81cadc25818d73ea": {
          "model_module": "@jupyter-widgets/base",
          "model_name": "LayoutModel",
          "state": {
            "_view_name": "LayoutView",
            "grid_template_rows": null,
            "right": null,
            "justify_content": null,
            "_view_module": "@jupyter-widgets/base",
            "overflow": null,
            "_model_module_version": "1.2.0",
            "_view_count": null,
            "flex_flow": null,
            "width": null,
            "min_width": null,
            "border": null,
            "align_items": null,
            "bottom": null,
            "_model_module": "@jupyter-widgets/base",
            "top": null,
            "grid_column": null,
            "overflow_y": null,
            "overflow_x": null,
            "grid_auto_flow": null,
            "grid_area": null,
            "grid_template_columns": null,
            "flex": null,
            "_model_name": "LayoutModel",
            "justify_items": null,
            "grid_row": null,
            "max_height": null,
            "align_content": null,
            "visibility": null,
            "align_self": null,
            "height": null,
            "min_height": null,
            "padding": null,
            "grid_auto_rows": null,
            "grid_gap": null,
            "max_width": null,
            "order": null,
            "_view_module_version": "1.2.0",
            "grid_template_areas": null,
            "object_position": null,
            "object_fit": null,
            "grid_auto_columns": null,
            "margin": null,
            "display": null,
            "left": null
          }
        },
        "5588316df3ac40a4a67c66ac0fbfab4b": {
          "model_module": "@jupyter-widgets/controls",
          "model_name": "DescriptionStyleModel",
          "state": {
            "_view_name": "StyleView",
            "_model_name": "DescriptionStyleModel",
            "description_width": "",
            "_view_module": "@jupyter-widgets/base",
            "_model_module_version": "1.5.0",
            "_view_count": null,
            "_view_module_version": "1.2.0",
            "_model_module": "@jupyter-widgets/controls"
          }
        },
        "5e51ec1bb849421eb292abd73313a3e5": {
          "model_module": "@jupyter-widgets/base",
          "model_name": "LayoutModel",
          "state": {
            "_view_name": "LayoutView",
            "grid_template_rows": null,
            "right": null,
            "justify_content": null,
            "_view_module": "@jupyter-widgets/base",
            "overflow": null,
            "_model_module_version": "1.2.0",
            "_view_count": null,
            "flex_flow": null,
            "width": null,
            "min_width": null,
            "border": null,
            "align_items": null,
            "bottom": null,
            "_model_module": "@jupyter-widgets/base",
            "top": null,
            "grid_column": null,
            "overflow_y": null,
            "overflow_x": null,
            "grid_auto_flow": null,
            "grid_area": null,
            "grid_template_columns": null,
            "flex": null,
            "_model_name": "LayoutModel",
            "justify_items": null,
            "grid_row": null,
            "max_height": null,
            "align_content": null,
            "visibility": null,
            "align_self": null,
            "height": null,
            "min_height": null,
            "padding": null,
            "grid_auto_rows": null,
            "grid_gap": null,
            "max_width": null,
            "order": null,
            "_view_module_version": "1.2.0",
            "grid_template_areas": null,
            "object_position": null,
            "object_fit": null,
            "grid_auto_columns": null,
            "margin": null,
            "display": null,
            "left": null
          }
        }
      }
    }
  },
  "cells": [
    {
      "cell_type": "markdown",
      "metadata": {
        "id": "view-in-github",
        "colab_type": "text"
      },
      "source": [
        "<a href=\"https://colab.research.google.com/github/Mikcl/CellTransformer/blob/wip-no-repeat/Cells_are_Transformers_II.ipynb\" target=\"_parent\"><img src=\"https://colab.research.google.com/assets/colab-badge.svg\" alt=\"Open In Colab\"/></a>"
      ]
    },
    {
      "cell_type": "code",
      "metadata": {
        "id": "g305-z3wlXTQ",
        "colab": {
          "base_uri": "https://localhost:8080/"
        },
        "outputId": "00822182-4459-46e3-fd3c-f8bdcea7a4dc"
      },
      "source": [
        "!pip install linear-attention-transformer\n",
        "!pip install einops"
      ],
      "execution_count": 2,
      "outputs": [
        {
          "output_type": "stream",
          "text": [
            "Requirement already satisfied: linear-attention-transformer in /usr/local/lib/python3.7/dist-packages (0.15.3)\n",
            "Requirement already satisfied: axial-positional-embedding in /usr/local/lib/python3.7/dist-packages (from linear-attention-transformer) (0.2.1)\n",
            "Requirement already satisfied: torch in /usr/local/lib/python3.7/dist-packages (from linear-attention-transformer) (1.7.1+cu101)\n",
            "Requirement already satisfied: linformer>=0.1.0 in /usr/local/lib/python3.7/dist-packages (from linear-attention-transformer) (0.2.1)\n",
            "Requirement already satisfied: local-attention in /usr/local/lib/python3.7/dist-packages (from linear-attention-transformer) (1.2.2)\n",
            "Requirement already satisfied: product-key-memory>=0.1.5 in /usr/local/lib/python3.7/dist-packages (from linear-attention-transformer) (0.1.10)\n",
            "Requirement already satisfied: numpy in /usr/local/lib/python3.7/dist-packages (from torch->linear-attention-transformer) (1.19.5)\n",
            "Requirement already satisfied: typing-extensions in /usr/local/lib/python3.7/dist-packages (from torch->linear-attention-transformer) (3.7.4.3)\n",
            "Requirement already satisfied: einops in /usr/local/lib/python3.7/dist-packages (0.3.0)\n"
          ],
          "name": "stdout"
        }
      ]
    },
    {
      "cell_type": "code",
      "metadata": {
        "id": "Awl8-4fPlAZ8"
      },
      "source": [
        "import os\n",
        "import base64\n",
        "import numpy as np\n",
        "import torch\n",
        "from torch.utils.data import DataLoader, Dataset\n",
        "from torch import nn\n",
        "from IPython.display import Image, HTML, clear_output\n",
        "import tqdm\n",
        "\n",
        "import io\n",
        "import PIL.Image, PIL.ImageDraw\n",
        "import base64\n",
        "import zipfile\n",
        "import json\n",
        "import requests\n",
        "import matplotlib.pylab as plt\n",
        "import glob\n",
        "\n",
        "import torch.optim as optim\n",
        "\n",
        "from linear_attention_transformer import LinearAttentionTransformerLM\n",
        "from linear_attention_transformer.autoregressive_wrapper import AutoregressiveWrapper\n",
        "\n",
        "from einops import rearrange\n",
        "\n",
        "import shutil\n",
        "from google.colab import drive\n",
        "drive.mount('/content/gdrive')\n",
        "DRIVE_PATH = '/content/gdrive/My Drive/'\n",
        "\n",
        "\n",
        "YOUR_FOLDER_PATH = 'KCL CS/Year 4/PRJ/models/'\n",
        "\n",
        "GOOGLE_DRIVE_FOLDER = DRIVE_PATH + YOUR_FOLDER_PATH\n",
        "\n",
        "\n",
        "clear_output()"
      ],
      "execution_count": 3,
      "outputs": []
    },
    {
      "cell_type": "code",
      "metadata": {
        "id": "90lPXBTtlaph"
      },
      "source": [
        "#@title Cellular Automata Parameters\n",
        "CHANNEL_N = 4        # Number of CA state channels\n",
        "TARGET_PADDING = 16   # Number of pixels used to pad the target image border\n",
        "TARGET_SIZE = 40\n",
        "\n",
        "# 👁, 🦎  '🦎😀💥👁🐠🦋🐞🕸🥨🎄'\n",
        "TARGET_EMOJI = \"🦎\" #@param {type:\"string\"}\n",
        "\n",
        "EXPERIMENT_TYPE = \"Growing\" #@param [\"Growing\"] # \"Persistent\", \"Regenerating\"\n",
        "EXPERIMENT_MAP = {\"Growing\":0, \"Persistent\":1, \"Regenerating\":2}\n",
        "EXPERIMENT_N = EXPERIMENT_MAP[EXPERIMENT_TYPE]\n",
        "\n",
        "USE_PATTERN_POOL = [0, 1, 1][EXPERIMENT_N]\n",
        "DAMAGE_N = [0, 0, 3][EXPERIMENT_N]  # Number of patterns to damage in a batch"
      ],
      "execution_count": 4,
      "outputs": []
    },
    {
      "cell_type": "code",
      "metadata": {
        "id": "qTMuZlP6m4Z6"
      },
      "source": [
        "#@title Transformer Token Details\n",
        "TOKEN_OFFSET = 2\n",
        "NUM_TOKENS = 257 + TOKEN_OFFSET\n",
        "ENC_SEQ_LEN = 9 * CHANNEL_N\n",
        "DEC_SEQ_LEN = CHANNEL_N"
      ],
      "execution_count": 5,
      "outputs": []
    },
    {
      "cell_type": "code",
      "metadata": {
        "id": "iBCiVj1WmnAE"
      },
      "source": [
        "#@title Tranformer Hyperparameters \n",
        "\n",
        "EPOCHS = 401 #int(1e3)\n",
        "BATCH_SIZE = 16\n",
        "LEARNING_RATE = 1e-4\n",
        "# GENERATE_EVERY  = 100   # For visual results during training. . "
      ],
      "execution_count": 6,
      "outputs": []
    },
    {
      "cell_type": "code",
      "metadata": {
        "id": "vXPB73jkn1cB"
      },
      "source": [
        "#@title Helpers \n",
        "\n",
        "def to_rgba(x):\n",
        "  return x[:,:4,:,:]\n",
        "\n",
        "def to_rgb(x):\n",
        "  return x[:,:3,:,:]\n",
        "\n",
        "def make_seed(size, n=1):\n",
        "  x = np.zeros([n, size, size, CHANNEL_N], np.float32)\n",
        "  x[:, size//2, size//2, 3:] = 1.0\n",
        "  return x\n",
        "\n",
        "def plot_loss(loss_log):\n",
        "  plt.figure(figsize=(10, 4))\n",
        "  plt.title('Loss history (log10)')\n",
        "  plt.plot(np.log10(loss_log), '.', alpha=0.1)\n",
        "  plt.show()\n",
        "\n",
        "def np2pil(a):\n",
        "  if a.dtype in [np.float32, np.float64]:\n",
        "    a = np.uint8(np.clip(a, 0, 1)*255)\n",
        "  return PIL.Image.fromarray(a)\n",
        "\n",
        "def imwrite(f, a, fmt=None):\n",
        "  a = np.asarray(a)\n",
        "  if isinstance(f, str):\n",
        "    fmt = f.rsplit('.', 1)[-1].lower()\n",
        "    if fmt == 'jpg':\n",
        "      fmt = 'jpeg'\n",
        "    f = open(f, 'wb')\n",
        "  np2pil(a).save(f, fmt, quality=95)\n",
        "\n",
        "def imencode(a, fmt='jpeg'):\n",
        "  a = np.asarray(a)\n",
        "  if len(a.shape) == 3 and a.shape[-1] == 4:\n",
        "    fmt = 'png'\n",
        "  f = io.BytesIO()\n",
        "  imwrite(f, a, fmt)\n",
        "  return f.getvalue()\n",
        "\n",
        "def im2url(a, fmt='jpeg'):\n",
        "  encoded = imencode(a, fmt)\n",
        "  base64_byte_string = base64.b64encode(encoded).decode('ascii')\n",
        "  return 'data:image/' + fmt.upper() + ';base64,' + base64_byte_string\n"
      ],
      "execution_count": 7,
      "outputs": []
    },
    {
      "cell_type": "code",
      "metadata": {
        "id": "fup4z40WpClo"
      },
      "source": [
        "#@title Load image utils. \n",
        "\n",
        "# Returns h,w,c image where c=RGBA\n",
        "def load_image(url, max_size=TARGET_SIZE):\n",
        "  r = requests.get(url)\n",
        "  print('R',r)\n",
        "  img = PIL.Image.open(io.BytesIO(r.content))\n",
        "  img.thumbnail((max_size, max_size), PIL.Image.ANTIALIAS)\n",
        "  # img = np.float32(img)\n",
        "  # return img\n",
        "\n",
        "  # ASSUME THIERS\n",
        "  img = np.float32(img)/255.0\n",
        "  # premultiply normalised RGB by Alpha\n",
        "  img[..., :3] *= img[..., 3:]\n",
        "  img = img*255.0\n",
        "  return img\n",
        "\n",
        "def load_emoji(emoji):\n",
        "  code = hex(ord(emoji))[2:].lower()\n",
        "  url = 'https://github.com/googlefonts/noto-emoji/raw/main/png/128/emoji_u%s.png'%code\n",
        "  return load_image(url)"
      ],
      "execution_count": 8,
      "outputs": []
    },
    {
      "cell_type": "code",
      "metadata": {
        "id": "_rKmByqYpcE6"
      },
      "source": [
        "#@title To Device\n",
        "if torch.cuda.is_available():  \n",
        "  dev = \"cuda:0\" \n",
        "else:  \n",
        "  dev = \"cpu\"\n",
        "device = torch.device(dev)  "
      ],
      "execution_count": 9,
      "outputs": []
    },
    {
      "cell_type": "code",
      "metadata": {
        "id": "dpswGT_xsezf",
        "colab": {
          "base_uri": "https://localhost:8080/"
        },
        "outputId": "0b3025db-ee4f-4a85-bb84-b8b7045b75f7"
      },
      "source": [
        "#@title Load Emoji\n",
        "target_img = load_emoji(TARGET_EMOJI)"
      ],
      "execution_count": 10,
      "outputs": [
        {
          "output_type": "stream",
          "text": [
            "R <Response [200]>\n"
          ],
          "name": "stdout"
        }
      ]
    },
    {
      "cell_type": "code",
      "metadata": {
        "id": "zK7C4qZRsGnt"
      },
      "source": [
        "p = TARGET_PADDING\n",
        "target_img_tensor = torch.from_numpy(target_img)\n",
        "\n",
        "# (72,72,4)\n",
        "pad_target = torch.nn.functional.pad(target_img_tensor, pad=(0,0,p,p,p,p), mode='constant', value=0)\n",
        "h, w = pad_target.shape[:2]\n",
        "\n",
        "# (CHANNEL_N, 72, 72)\n",
        "seed = np.zeros([CHANNEL_N, h, w], np.float32)\n",
        "seed[3:, h//2, w//2] = 255\n",
        "\n",
        "pad_target = pad_target.permute(2, 0, 1)"
      ],
      "execution_count": 11,
      "outputs": []
    },
    {
      "cell_type": "code",
      "metadata": {
        "id": "YM2KOzGus8Hv",
        "colab": {
          "base_uri": "https://localhost:8080/"
        },
        "outputId": "46881dc1-3e64-4d48-f0c3-d006dac62e4e"
      },
      "source": [
        "pad_target = pad_target.to(device)\n",
        "print(pad_target.shape)"
      ],
      "execution_count": 12,
      "outputs": [
        {
          "output_type": "stream",
          "text": [
            "torch.Size([4, 72, 72])\n"
          ],
          "name": "stdout"
        }
      ]
    },
    {
      "cell_type": "code",
      "metadata": {
        "id": "FP3syDMHy-Jv"
      },
      "source": [
        "#@title Masking Utils\n",
        "IMAGE_BATCH_SIZE = 1 #number of images to concurrently train on. \n",
        "LIVE_MIN = 0\n",
        "\n",
        "# Applied on default/non-tokenized values\n",
        "def get_living_mask(x, rate=LIVE_MIN, k=3):\n",
        "  alpha = x[:, 3:4, :, :]\n",
        "  p = 1 if k > 1 else 0\n",
        "  return torch.nn.functional.max_pool2d(input=alpha, kernel_size=k, stride=1, padding=p) > rate\n",
        "\n",
        "# 3d tensor as boolean. rate = 0 before, k =3\n",
        "alive_target_mask = get_living_mask(pad_target[None,...]/255.0, rate=0.1, k=1)\n",
        "\n",
        "loss_target_mask = get_living_mask(pad_target[None,...]/255.0, rate=0.1, k=1)\n",
        "loss_target = ((pad_target/255.0) * loss_target_mask.float().bool().long())\n",
        "\n",
        "def cleaned_x_long(x, bool_mask):\n",
        "  return  (x * bool_mask.float().bool().long()).long()\n",
        "\n",
        "def t_loss_f(x, clean=False):\n",
        "    x = x[:,:,:,:]\n",
        "\n",
        "    x = x if not clean else cleaned_x_long(x,loss_target_mask)\n",
        "    return np.mean(torch.square((x/255.0)-loss_target).cpu().detach().numpy(), axis=1)\n",
        "\n",
        "\n",
        "def loss_score(loss):\n",
        "    return np.log10(np.mean(loss))\n",
        "\n",
        "def plot_loss_diff(loss):\n",
        "  img_loss = loss.reshape(loss.shape[1],loss.shape[2])  # TODO may be wrong indexes.\n",
        "\n",
        "  plt.imshow(zoom(img_loss, 1), vmin=0, vmax=1, cmap='jet') #'gray_r'\n",
        "  plt.colorbar()\n",
        "\n",
        "\n",
        "# TODO REMOVE FUNC\n",
        "def loss_f(x, clean=False):\n",
        "    x = x[:,:,:,:]\n",
        "\n",
        "    # ls = nn.MSELoss()\n",
        "    # err = ls(x[0]/255.0, pad_target.long()/255.0).cpu().detach().numpy()\n",
        "    return np.mean(torch.square((x/255.0)-(pad_target/255.0)).cpu().detach().numpy(), axis=1)\n",
        "\n",
        "\n",
        "def get_dilatied_mask(x):\n",
        "  # Returns x dilated mask as FloatType \n",
        "  output = x.sum(-3) > 0\n",
        "  output = output.type(torch.FloatTensor)\n",
        "  kernel = torch.tensor([[1,1,1],[1,1,1],[1,1,1]]).type(torch.FloatTensor)\n",
        "  dilated = torch.nn.functional.conv2d(output[None,...], kernel[None, None, ...].expand(1, -1, -1, -1), groups=1, padding=1)\n",
        "  return dilated\n",
        "\n",
        "def get_living_target(x):\n",
        "  living_mask = get_living_mask(x)\n",
        "\n",
        "  # print('SUM OF 1s', torch.sum(torch.flatten(living_mask)))\n",
        "  living_target_mask = (living_mask & alive_target_mask)\n",
        "  living_target = pad_target[None,...] * living_target_mask.float()\n",
        "  living_target = living_target[0]\n",
        "  return living_target\n",
        "\n",
        "def mask_target(mask):\n",
        "  '''\n",
        "    mask - tensor: 2D - Float\n",
        "\n",
        "    returns - tensor: 4D - T\n",
        "  '''\n",
        "  # returns 4d tensor. \n",
        "  target_batch = pad_target[None, ...] * mask\n",
        "  return target_batch\n"
      ],
      "execution_count": 13,
      "outputs": []
    },
    {
      "cell_type": "code",
      "metadata": {
        "id": "T1fglUUQteEd"
      },
      "source": [
        "#@title Define Model\n",
        "def tokenize(x):\n",
        "  return (x + 2).long()\n",
        "\n",
        "def detokenize(x):\n",
        "  return (x - 2).long()\n",
        "\n",
        "def percieve(x):\n",
        "  # x - 4d tensor - N, C, H, W\n",
        "  _,_,h,w = x.shape\n",
        "  padded_x = torch.nn.functional.pad(x, pad=(1,1,1,1), mode='constant', value=0)\n",
        "  stacked_image = torch.cat(\n",
        "      [padded_x[:,:,i:i+h, j:j+w]  for j in range(3) for i in range(3)]\n",
        "      ,1\n",
        "  )\n",
        "  return stacked_image\n",
        "\n",
        "\n",
        "# instantiate model\n",
        "enc = LinearAttentionTransformerLM(\n",
        "    num_tokens = NUM_TOKENS,\n",
        "    dim = 768,\n",
        "    heads = 4,\n",
        "    depth = 6,\n",
        "    max_seq_len = ENC_SEQ_LEN,\n",
        "    one_kv_head = True,\n",
        "    return_embeddings = True\n",
        ").to(device)\n",
        "\n",
        "dec = LinearAttentionTransformerLM(\n",
        "    num_tokens = NUM_TOKENS,\n",
        "    dim = 768,\n",
        "    heads = 4,\n",
        "    depth = 6,\n",
        "    causal = True,\n",
        "    blindspot_size = 1,\n",
        "    max_seq_len = DEC_SEQ_LEN,\n",
        "    one_kv_head = True,\n",
        "    receives_context = True\n",
        ").to(device)\n",
        "\n",
        "dec = AutoregressiveWrapper(dec)\n",
        "\n",
        "\n",
        "\n"
      ],
      "execution_count": 41,
      "outputs": []
    },
    {
      "cell_type": "code",
      "metadata": {
        "id": "J5lGSTAXnsnL"
      },
      "source": [
        "#@title Load Saved Model Instead\n",
        "LOAD_MODEL = False\n",
        "enc_path = GOOGLE_DRIVE_FOLDER + 'enc-first.pth'\n",
        "dec_path = GOOGLE_DRIVE_FOLDER + 'dec-first.pth'\n",
        "if (LOAD_MODEL):\n",
        "  enc = torch.load(enc_path)\n",
        "  # enc.eval()\n",
        "  dec = torch.load(dec_path)\n",
        "  # dec.eval()\n"
      ],
      "execution_count": 42,
      "outputs": []
    },
    {
      "cell_type": "code",
      "metadata": {
        "id": "YRfYEZakngND"
      },
      "source": [
        "optim = torch.optim.Adam([*enc.parameters(), *dec.parameters()], lr=LEARNING_RATE)"
      ],
      "execution_count": 43,
      "outputs": []
    },
    {
      "cell_type": "code",
      "metadata": {
        "id": "OIz10RkPL14v"
      },
      "source": [
        "#@title Dataset Generation Helpers. \n",
        "SENTENCES = int(alive_target_mask.shape[2] * alive_target_mask.shape[3])\n",
        "\n",
        "class CellTraining(Dataset):\n",
        "    def __init__(self, X, Y):\n",
        "        self.src = X\n",
        "        self.tgt = Y\n",
        "        assert X.shape[0] == Y.shape[0], 'Dataset X and Y not of same length'\n",
        "\n",
        "        b = X.shape[0]\n",
        "        self.SRC_MASK = torch.ones(b, ENC_SEQ_LEN).bool()\n",
        "        self.TGT_MASK = torch.ones(b, DEC_SEQ_LEN).bool()\n",
        "\n",
        "        self.length = b\n",
        "\n",
        "    def __len__(self):\n",
        "        return self.length\n",
        "\n",
        "    def __getitem__(self, idx):\n",
        "        src = self.src[idx]\n",
        "        tgt = self.tgt[idx]\n",
        "        src_mask = self.SRC_MASK[idx]\n",
        "        tgt_mask = self.TGT_MASK[idx] \n",
        "        return src.to(device), tgt.to(device), src_mask.to(device), tgt_mask.to(device)\n",
        "\n",
        "\n",
        "class CellEvaluating(Dataset):\n",
        "    def __init__(self, X):\n",
        "        self.src = X\n",
        "        b = X.shape[0]\n",
        "        self.SRC_MASK = torch.ones(b, ENC_SEQ_LEN).bool()\n",
        "        self.length = b\n",
        "\n",
        "    def __len__(self):\n",
        "        return self.length\n",
        "\n",
        "    def __getitem__(self, idx):\n",
        "        src = self.src[idx]\n",
        "        src_mask = self.SRC_MASK[idx]\n",
        "        return src.to(device), src_mask.to(device)\n",
        "\n",
        "\n",
        "\n",
        "def get_start_tokens(number_of_sentences):\n",
        "    return torch.ones((number_of_sentences, 1)).long().to(device)\n",
        "\n",
        "def image_to_sentences(x):\n",
        "  '''\n",
        "    ## maps a 3D tensor of shape (c, h, w) to a 2D tensor of (h*w, c)\n",
        "    these are known as sentences or 'patches' of size one\n",
        "  '''\n",
        "  return rearrange(x,'c h w -> (h w) c')\n",
        "\n",
        "\n",
        "def sentences_to_image(x, height, width):\n",
        "  '''\n",
        "    ## maps a 2D tesnor of shape (h*w, c) to image/3D tensor shape of (c, h, w)\n",
        "    inverse of image_to_sentence\n",
        "    height: int - image dimension\n",
        "    width: int - image dimension\n",
        "  '''\n",
        "  return rearrange(x, '(h w) (p1 p2 c) -> c (h p1) (w p2)', p1 =1, p2 =1, h=height, w=width)\n",
        "\n",
        "def zoom(img, scale=4):\n",
        "  img = np.repeat(img, scale, 0)\n",
        "  img = np.repeat(img, scale, 1)\n",
        "  return img\n",
        "\n",
        "def visualize_batched(x, c=4):\n",
        "  x = x[:,:c,:,:].cpu().numpy()\n",
        "  vis1 = np.hstack(np.transpose(x, (0,2,3,1)))\n",
        "  plt.imshow(vis1)\n",
        "  plt.show()\n",
        "\n",
        "\n",
        "def get_X_values(x, mask=None):\n",
        "  # X values\n",
        "  percieved_images = percieve(x)\n",
        "  X_img = percieved_images[0]\n",
        "\n",
        "  # TODO - optional mask here? \n",
        "  X_img = X_img if mask==None else (X_img[None,...] * mask)[0]\n",
        "\n",
        "  X_seq_un_clean = image_to_sentences(X_img)\n",
        "  valid_instances = (torch.tensor(X_seq_un_clean).bool().float().sum(dim=-1) != 0).nonzero().flatten().long()\n",
        "\n",
        "  X_seq_cleaned = X_seq_un_clean[valid_instances]\n",
        "\n",
        "  X_seq = tokenize(X_seq_cleaned)\n",
        "  return valid_instances, X_seq\n",
        "\n",
        "\n",
        "# X - 4d tensor - maybe move this\n",
        "def get_input_values(x):\n",
        "  step_output_float_mask = get_dilatied_mask(x).to(device)\n",
        "\n",
        "  valid_instances, X_seq = get_X_values(x)\n",
        "\n",
        "  return step_output_float_mask, valid_instances, X_seq\n",
        "\n",
        "def get_update_values(x, step_float, seen_float):\n",
        "  training_float = (step_float.bool() ^ seen_float.bool()).float()\n",
        "  seen_float = (training_float.bool() | seen_float.bool()).float()\n",
        "\n",
        "  # TODO - use training float to extract valid instances\n",
        "  valid_instances, X_seq = get_X_values(x, training_float)\n",
        "\n",
        "  return training_float, valid_instances, X_seq, seen_float\n",
        "\n",
        "def get_X0():\n",
        "  x0 = np.repeat(seed[None,...], IMAGE_BATCH_SIZE, 0)\n",
        "  x0 = torch.Tensor(x0).to(device)\n",
        "  return x0\n",
        "\n",
        "def create_training_dataset():\n",
        "  x0 = get_X0()\n",
        "  x = x0\n",
        "  prev_N = None\n",
        "  seen_float = (get_living_mask(x).float() * 0).to(device);\n",
        "\n",
        "  steps = 0\n",
        "\n",
        "  x_values = []\n",
        "  y_values = []\n",
        "\n",
        "  while (prev_N != 0):\n",
        "\n",
        "    step_output_float_mask, valid_instances, X_seq = get_input_values(x)\n",
        "\n",
        "    u_step_output_float_mask, u_valid_instances, u_X_seq, seen_float = get_update_values(x, step_output_float_mask, seen_float)\n",
        "    N = len(u_valid_instances)\n",
        "    prev_N = N\n",
        "    if (N != 0):\n",
        "      steps+=1\n",
        "      training_float_mask, valid_instances, X_seq = u_step_output_float_mask, u_valid_instances, u_X_seq\n",
        "    else:\n",
        "      training_float_mask = step_output_float_mask\n",
        "\n",
        "    y_target = mask_target(training_float_mask.bool().float())[0]\n",
        "\n",
        "    # Prefix\n",
        "    prefix = get_start_tokens(X_seq.shape[0])\n",
        "\n",
        "    # Y valyes from target\n",
        "    y_seq_un_cleaned = image_to_sentences(y_target)\n",
        "    y_seq_cleaned = y_seq_un_cleaned[valid_instances]\n",
        "    y_seq = tokenize(y_seq_cleaned)\n",
        "    Y_seq = torch.cat([prefix, y_seq], 1)\n",
        "\n",
        "    # Add X_seq, Y_seq to a dataset\n",
        "    x_values.append(X_seq)\n",
        "    y_values.append(Y_seq)\n",
        "\n",
        "    x = mask_target(step_output_float_mask.bool().float()).to(device)\n",
        "\n",
        "  X_seqs = torch.cat(x_values, 0)\n",
        "  Y_seqs = torch.cat(y_values, 0)\n",
        "  training_dataset = CellTraining(X_seqs, Y_seqs)\n",
        "  return training_dataset, steps\n",
        "\n"
      ],
      "execution_count": 44,
      "outputs": []
    },
    {
      "cell_type": "code",
      "metadata": {
        "colab": {
          "base_uri": "https://localhost:8080/"
        },
        "id": "2wbe5tHcSF4J",
        "outputId": "463d3700-cab6-499d-fe21-ffe17904bdd6"
      },
      "source": [
        "training_dataset, EVAL_STEPS = create_training_dataset()\n",
        "print('LEN DATASET', len(training_dataset))"
      ],
      "execution_count": 45,
      "outputs": [
        {
          "output_type": "stream",
          "text": [
            "LEN DATASET 2030\n"
          ],
          "name": "stdout"
        },
        {
          "output_type": "stream",
          "text": [
            "/usr/local/lib/python3.7/dist-packages/ipykernel_launcher.py:85: UserWarning: To copy construct from a tensor, it is recommended to use sourceTensor.clone().detach() or sourceTensor.clone().detach().requires_grad_(True), rather than torch.tensor(sourceTensor).\n"
          ],
          "name": "stderr"
        }
      ]
    },
    {
      "cell_type": "code",
      "metadata": {
        "id": "exA36QjGVKIE"
      },
      "source": [
        "#@title Generate Method { vertical-output: true}\n",
        "SENTENCE_BATCH = 32\n",
        "\n",
        "def generate(encoder, decoder, x, EVAL_STEPS, disable=False):\n",
        "  encoder.eval(), decoder.eval()\n",
        "\n",
        "  for step in tqdm.auto.tqdm(range(EVAL_STEPS), mininterval=1., desc='evaluation step', disable=disable):\n",
        "    output_seq = torch.zeros(SENTENCES, CHANNEL_N).long().to(device)\n",
        "\n",
        "    step_output_float_mask, update_instances, X_seq = get_input_values(x)\n",
        "\n",
        "    update_instances = update_instances\n",
        "\n",
        "    dataset = CellEvaluating(X_seq)\n",
        "    eval_data_loader = DataLoader(dataset=dataset, batch_size=SENTENCE_BATCH, shuffle=False)\n",
        "    \n",
        "    generated= torch.zeros(X_seq.shape[0], CHANNEL_N).long().to(device)\n",
        "\n",
        "    for batch_i , (src, src_mask) in enumerate(eval_data_loader):\n",
        "      start_tokens = (torch.ones((src.shape[0], 1)) * 1).long().to(device)\n",
        "\n",
        "      context = encoder(src)\n",
        "      \n",
        "      sample = decoder.generate(start_tokens, DEC_SEQ_LEN , context = context)\n",
        "      predicted_cells = sample[:, - CHANNEL_N: ]\n",
        "      s = batch_i*SENTENCE_BATCH\n",
        "      \n",
        "      locations = torch.arange(s,s+predicted_cells.shape[0])\n",
        "\n",
        "      generated[locations] = predicted_cells\n",
        "\n",
        "    output_seq[update_instances] = detokenize(generated)\n",
        "    output_img = sentences_to_image(output_seq, x.shape[2], x.shape[3])\n",
        "    \n",
        "    x = output_img[None,...]\n",
        "\n",
        "  return x\n"
      ],
      "execution_count": 46,
      "outputs": []
    },
    {
      "cell_type": "code",
      "metadata": {
        "colab": {
          "base_uri": "https://localhost:8080/",
          "height": 1000,
          "referenced_widgets": [
            "c204b6148f1b4dd4878aaf327297e59a",
            "f6c6ae84be3d4c989b02d4682a03579a",
            "bf2cf3c0b4fb4172aebae33156c96941",
            "07c1eb61c91e49c6b6c440dd1d018305",
            "816a89dc43fb48d9a202bcdfb1578970",
            "2720e2075e2a4f4aa655ac470689c32e",
            "c853fa7e3ca5420880e2cb57f21714ff",
            "0684d0de505842a5a05f9dbd8a3a5976"
          ]
        },
        "id": "5wVWObOcGJPv",
        "outputId": "dcab9849-1e09-4698-fabc-e69981aa783d"
      },
      "source": [
        "#@title Un-Ordered Training!!!!! { vertical-output: true}\n",
        "\n",
        "# training\n",
        "log_loss = []\n",
        "\n",
        "TRAIN_ON=True \n",
        "EVAL_EVERY=10\n",
        "VISUALISE_EVERY = 10\n",
        "\n",
        "next_token_loss = [['EPOCH', 'STEP', 'LOSS']]\n",
        "epoch_losses = []\n",
        "epoch_mean_losses = []\n",
        "\n",
        "training_dataset, EVAL_STEPS = create_training_dataset()\n",
        "print('LEN DATASET', len(training_dataset))\n",
        "data_loader = DataLoader(dataset=training_dataset, batch_size=64, shuffle=True)\n",
        "\n",
        "\n",
        "for i in tqdm.tqdm(range(1,EPOCHS), mininterval=10., desc='training epochs'):\n",
        "    if (TRAIN_ON):\n",
        "      losses = []    \n",
        "      enc.train(), dec.train()\n",
        "      for batch_i , (src, tgt, src_mask, tgt_mask) in enumerate(data_loader):\n",
        "        context = enc(src, input_mask = src_mask)\n",
        "        loss = dec(tgt, context = context, input_mask = tgt_mask, context_mask = src_mask, return_loss = True)\n",
        "        loss.backward()\n",
        "        loss_value = loss.item()\n",
        "        next_token_loss.append([i, batch_i, loss_value])\n",
        "        losses.append(loss_value)\n",
        "        optim.step()\n",
        "        optim.zero_grad()\n",
        "\n",
        "      epoch_mean_losses.append(sum(losses)/len(losses)  )\n",
        "      epoch_losses.append(losses)\n",
        "\n",
        "    # Generate:\n",
        "    if (EVAL_STEPS > 0 and i % EVAL_EVERY == 0):\n",
        "      x = get_X0()\n",
        "\n",
        "      x = generate(enc, dec, x, EVAL_STEPS)\n",
        "\n",
        "      un_clean_loss = t_loss_f(x) #loss_f(x)\n",
        "      lo_n = loss_score(un_clean_loss)\n",
        "      log_loss.append(lo_n)\n",
        "\n",
        "    # Visualise progress\n",
        "    if (i % VISUALISE_EVERY == 0):\n",
        "      visualize_batched(x.detach().clone())\n",
        "      plt.figure()\n",
        "      for ep, l in enumerate(epoch_losses):\n",
        "        plt.plot(l, label=f'EPOCH-{i+ep}')\n",
        "\n",
        "      plt.xlabel(\"Step\")\n",
        "      plt.ylabel(\"Loss\")\n",
        "      plt.title(f\"epoch-{i}\")\n",
        "      # plt.legend()\n",
        "      plt.show()\n",
        "      epoch_losses = []\n",
        "\n",
        "      plt.figure()\n",
        "      plt.plot(epoch_mean_losses)\n",
        "\n",
        "      plt.xlabel(\"epoch\")\n",
        "      plt.ylabel(\"Loss\")\n",
        "      plt.title(f\"Training Loses Over Epochs\")\n",
        "      plt.show()\n",
        "\n",
        "      if (len(log_loss) > 0):\n",
        "        plt.figure()\n",
        "        plt.plot(log_loss, label=f'EPOCH-{i+ep}')\n",
        "\n",
        "        plt.xlabel(f\"every - {EVAL_EVERY-1} training steps\")\n",
        "        plt.ylabel(\"Loss\")\n",
        "        plt.title(\"Log Loss\")\n",
        "        plt.show()\n",
        "\n",
        "      \n",
        "    # TODO - produced x - calculate l2 loss and add to log loss - need alignment first"
      ],
      "execution_count": 57,
      "outputs": [
        {
          "output_type": "stream",
          "text": [
            "/usr/local/lib/python3.7/dist-packages/ipykernel_launcher.py:85: UserWarning: To copy construct from a tensor, it is recommended to use sourceTensor.clone().detach() or sourceTensor.clone().detach().requires_grad_(True), rather than torch.tensor(sourceTensor).\n",
            "\n",
            "\n",
            "training epochs:   0%|          | 0/10 [00:00<?, ?it/s]\u001b[A\u001b[A"
          ],
          "name": "stderr"
        },
        {
          "output_type": "stream",
          "text": [
            "LEN DATASET 2030\n"
          ],
          "name": "stdout"
        },
        {
          "output_type": "stream",
          "text": [
            "\n",
            "\n",
            "training epochs:  20%|██        | 2/10 [00:18<01:13,  9.24s/it]\u001b[A\u001b[A\n",
            "\n",
            "training epochs:  20%|██        | 2/10 [00:32<01:13,  9.24s/it]\u001b[A\u001b[A\n",
            "\n",
            "training epochs:  40%|████      | 4/10 [00:37<00:55,  9.25s/it]\u001b[A\u001b[A\n",
            "\n",
            "training epochs:  40%|████      | 4/10 [00:47<00:55,  9.25s/it]\u001b[A\u001b[A\n",
            "\n",
            "training epochs:  60%|██████    | 6/10 [00:55<00:37,  9.28s/it]\u001b[A\u001b[A\n",
            "\n",
            "training epochs:  60%|██████    | 6/10 [01:07<00:37,  9.28s/it]\u001b[A\u001b[A\n",
            "\n",
            "training epochs:  80%|████████  | 8/10 [01:14<00:18,  9.34s/it]\u001b[A\u001b[A\n",
            "\n",
            "training epochs:  80%|████████  | 8/10 [01:27<00:18,  9.34s/it]\u001b[A\u001b[A"
          ],
          "name": "stderr"
        },
        {
          "output_type": "display_data",
          "data": {
            "application/vnd.jupyter.widget-view+json": {
              "model_id": "c204b6148f1b4dd4878aaf327297e59a",
              "version_minor": 0,
              "version_major": 2
            },
            "text/plain": [
              "HBox(children=(FloatProgress(value=0.0, description='evaluation step', max=21.0, style=ProgressStyle(descripti…"
            ]
          },
          "metadata": {
            "tags": []
          }
        },
        {
          "output_type": "stream",
          "text": [
            "\n"
          ],
          "name": "stdout"
        },
        {
          "output_type": "display_data",
          "data": {
            "image/png": "[encoded data removed]",
            "text/plain": [
              "<Figure size 432x288 with 1 Axes>"
            ]
          },
          "metadata": {
            "tags": [],
            "needs_background": "light"
          }
        },
        {
          "output_type": "display_data",
          "data": {
            "image/png": "[encoded data removed]",
            "text/plain": [
              "<Figure size 432x288 with 1 Axes>"
            ]
          },
          "metadata": {
            "tags": [],
            "needs_background": "light"
          }
        },
        {
          "output_type": "display_data",
          "data": {
            "image/png": "[encoded data removed]",
            "text/plain": [
              "<Figure size 432x288 with 1 Axes>"
            ]
          },
          "metadata": {
            "tags": [],
            "needs_background": "light"
          }
        },
        {
          "output_type": "display_data",
          "data": {
            "image/png": "[encoded data removed]",
            "text/plain": [
              "<Figure size 432x288 with 1 Axes>"
            ]
          },
          "metadata": {
            "tags": [],
            "needs_background": "light"
          }
        },
        {
          "output_type": "stream",
          "text": [
            "\n",
            "\n",
            "training epochs: 100%|██████████| 10/10 [02:00<00:00, 12.08s/it]\n"
          ],
          "name": "stderr"
        }
      ]
    },
    {
      "cell_type": "code",
      "metadata": {
        "id": "EYZGLN7Z9E4K"
      },
      "source": [
        "#@title Save Models { vertical-output: true}\n",
        "import time\n",
        "\n",
        "SAVE_MODEL= False\n",
        "if (SAVE_MODEL):\n",
        "  ts = str(time.time()).split('.')[0]\n",
        "  current_t = ts\n",
        "\n",
        "  ENC_FILE = f'./enc-{str(current_t)}.pth'\n",
        "  DEC_FILE = f'./dec-{str(current_t)}.pth'\n",
        "\n",
        "  torch.save(enc, ENC_FILE)\n",
        "  drive_path = f'/content/gdrive/My Drive/KCL CS/Year 4/PRJ/models/{ENC_FILE}'\n",
        "  shutil.copyfile(ENC_FILE, drive_path)\n",
        "\n",
        "  torch.save(dec, DEC_FILE)\n",
        "  drive_path = f'/content/gdrive/My Drive/KCL CS/Year 4/PRJ/models/{DEC_FILE}'\n",
        "  shutil.copyfile(DEC_FILE, drive_path)"
      ],
      "execution_count": 66,
      "outputs": []
    },
    {
      "cell_type": "code",
      "metadata": {
        "colab": {
          "base_uri": "https://localhost:8080/",
          "height": 1000
        },
        "id": "DmZ8Q85s4DW_",
        "outputId": "c661bd08-6434-4d17-ab50-5688a3529718"
      },
      "source": [
        "# HELPER BLOCK? - Visualises last x again\n",
        "\n",
        "cleaned_x =  cleaned_x_long(x, loss_target_mask) \n",
        "\n",
        "visualize_batched(x)\n",
        "visualize_batched(pad_target[None,...].long())\n",
        "visualize_batched(cleaned_x)\n",
        "\n",
        "to_diff = cleaned_x #cleaned_x\n",
        "\n",
        "loss = t_loss_f(to_diff)\n",
        "plot_loss_diff(loss)\n",
        "\n",
        "print('TLOSS', loss_score(t_loss_f(x)) )\n",
        "print('TLOSS CLEAN',loss_score(t_loss_f(x, clean=True)))"
      ],
      "execution_count": 58,
      "outputs": [
        {
          "output_type": "display_data",
          "data": {
            "image/png": "[encoded data removed]",
            "text/plain": [
              "<Figure size 432x288 with 1 Axes>"
            ]
          },
          "metadata": {
            "tags": [],
            "needs_background": "light"
          }
        },
        {
          "output_type": "display_data",
          "data": {
            "image/png": "[encoded data removed]",
            "text/plain": [
              "<Figure size 432x288 with 1 Axes>"
            ]
          },
          "metadata": {
            "tags": [],
            "needs_background": "light"
          }
        },
        {
          "output_type": "display_data",
          "data": {
            "image/png": "[encoded data removed]",
            "text/plain": [
              "<Figure size 432x288 with 1 Axes>"
            ]
          },
          "metadata": {
            "tags": [],
            "needs_background": "light"
          }
        },
        {
          "output_type": "stream",
          "text": [
            "TLOSS -2.8090613\n",
            "TLOSS CLEAN -3.3270612\n"
          ],
          "name": "stdout"
        },
        {
          "output_type": "display_data",
          "data": {
            "image/png": "[encoded data removed]",
            "text/plain": [
              "<Figure size 432x288 with 2 Axes>"
            ]
          },
          "metadata": {
            "tags": [],
            "needs_background": "light"
          }
        }
      ]
    },
    {
      "cell_type": "code",
      "metadata": {
        "colab": {
          "base_uri": "https://localhost:8080/",
          "height": 719,
          "referenced_widgets": [
            "3c5cd1d91b1d456fbc68b52fddf5ab59",
            "bbfcf43a87a64fd38f813ac60ddb802e",
            "644033dec8bb428d9ef4d0d5c26ae6f5",
            "60141fe63f174681a7f5598d6a5e0ce1",
            "eec23a84f3504177812bf7082a348a34",
            "2410299cc5834dc49c678e13d8889f38",
            "f1c423312a56469083e8164c4a10275f",
            "885a84d648b74f54b18ed720248e9eec"
          ]
        },
        "id": "ambcN0ju88pT",
        "outputId": "b639bec2-c661-4271-f751-efe190128a2a"
      },
      "source": [
        "#@title Multiple Image Generation { vertical-output: true}\n",
        "\n",
        "NUMBER_TO_GENERATE = 20\n",
        "\n",
        "best_gen, best_score = None, float('inf')\n",
        "for _ in tqdm.auto.tqdm(range(NUMBER_TO_GENERATE), mininterval=1., desc='generating images'):\n",
        "  x = generate(enc, dec, get_X0(), EVAL_STEPS, disable=True)\n",
        "  score = loss_score(t_loss_f(x, clean=True))\n",
        "  if score  < best_score:\n",
        "    best_score = score\n",
        "    best_gen = x\n",
        "  print(score)\n",
        "\n",
        "print(best_score)\n",
        "visualize_batched(cleaned_x_long(best_gen, loss_target_mask))"
      ],
      "execution_count": 59,
      "outputs": [
        {
          "output_type": "display_data",
          "data": {
            "application/vnd.jupyter.widget-view+json": {
              "model_id": "3c5cd1d91b1d456fbc68b52fddf5ab59",
              "version_minor": 0,
              "version_major": 2
            },
            "text/plain": [
              "HBox(children=(FloatProgress(value=0.0, description='generating images', max=20.0, style=ProgressStyle(descrip…"
            ]
          },
          "metadata": {
            "tags": []
          }
        },
        {
          "output_type": "stream",
          "text": [
            "/usr/local/lib/python3.7/dist-packages/ipykernel_launcher.py:85: UserWarning: To copy construct from a tensor, it is recommended to use sourceTensor.clone().detach() or sourceTensor.clone().detach().requires_grad_(True), rather than torch.tensor(sourceTensor).\n"
          ],
          "name": "stderr"
        },
        {
          "output_type": "stream",
          "text": [
            "-3.4066088\n",
            "-3.109426\n",
            "-3.0241709\n",
            "-2.7146494\n",
            "-3.2122362\n",
            "-5.7552557\n",
            "-3.0184457\n",
            "-3.0828087\n",
            "-3.019875\n",
            "-3.2252374\n",
            "-3.0381358\n",
            "-3.1149151\n",
            "-3.0213075\n",
            "-3.189888\n",
            "-2.8938885\n",
            "-3.0047052\n",
            "-2.8944423\n",
            "-3.3468966\n",
            "-2.9435732\n",
            "-3.099628\n",
            "\n",
            "-5.7552557\n"
          ],
          "name": "stdout"
        },
        {
          "output_type": "display_data",
          "data": {
            "image/png": "[encoded data removed]",
            "text/plain": [
              "<Figure size 432x288 with 1 Axes>"
            ]
          },
          "metadata": {
            "tags": [],
            "needs_background": "light"
          }
        }
      ]
    },
    {
      "cell_type": "code",
      "metadata": {
        "colab": {
          "base_uri": "https://localhost:8080/",
          "height": 520
        },
        "id": "Es1ge73hdX_7",
        "outputId": "3e9cb5e3-833b-4147-d5d8-b231a930487c"
      },
      "source": [
        "visualize_batched(best_gen)\n",
        "\n",
        "plot_loss_diff(t_loss_f(best_gen, clean=True))"
      ],
      "execution_count": 63,
      "outputs": [
        {
          "output_type": "display_data",
          "data": {
            "image/png": "[encoded data removed]",
            "text/plain": [
              "<Figure size 432x288 with 1 Axes>"
            ]
          },
          "metadata": {
            "tags": [],
            "needs_background": "light"
          }
        },
        {
          "output_type": "display_data",
          "data": {
            "image/png": "[encoded data removed]",
            "text/plain": [
              "<Figure size 432x288 with 2 Axes>"
            ]
          },
          "metadata": {
            "tags": [],
            "needs_background": "light"
          }
        }
      ]
    },
    {
      "cell_type": "code",
      "metadata": {
        "colab": {
          "base_uri": "https://localhost:8080/",
          "height": 138,
          "referenced_widgets": [
            "a50f24f7c9da4200be9bb3c583d745eb",
            "2086aacf4c8240a8b643ca43c9ddb7db",
            "233d5dd646b64ee18fb18b535bf66611",
            "e5908b7450964870b5299fad5cb90933",
            "f3fdef70627f423aa6a89821777d64fe",
            "a186fc02b927492b81cadc25818d73ea",
            "5588316df3ac40a4a67c66ac0fbfab4b",
            "5e51ec1bb849421eb292abd73313a3e5"
          ]
        },
        "id": "6aF0firhfb4M",
        "outputId": "51aead74-d1fd-445e-8fe0-584d3ed4ce68"
      },
      "source": [
        "#@title Persistance Tests { vertical-output: true}\n",
        "\n",
        "START_FROM_TARGET = False  # False will start from best generated, True from target position. \n",
        "CLEANED_BEST_GEN = True\n",
        "\n",
        "ROUNDS = 3 \n",
        "SCORE_EVERY = 10\n",
        "# TOTAL STEPS = ROUNDS * SCORE_EVERY\n",
        "\n",
        "c_scores = []\n",
        "uc_scores = []\n",
        "\n",
        "# use best generated or use target state? \n",
        "bg = cleaned_x_long(best_gen, loss_target_mask) if CLEANED_BEST_GEN else best_gen\n",
        "x = cleaned_x_long(pad_target,loss_target_mask) if START_FROM_TARGET else bg\n",
        "\n",
        "for _ in tqdm.auto.tqdm(range(ROUNDS), mininterval=1., desc='persistent experiementing...'):\n",
        "  x = generate(enc, dec, x, SCORE_EVERY, disable=True)\n",
        "  unmasked_score = loss_score(t_loss_f(x, clean=False))\n",
        "  uc_scores.append(unmasked_score)\n",
        "\n",
        "  masked_score = loss_score(t_loss_f(x, clean=True))\n",
        "  c_scores.append(masked_score)\n",
        "\n",
        "print(c_scores)\n",
        "print(uc_scores)\n",
        "\n"
      ],
      "execution_count": 64,
      "outputs": [
        {
          "output_type": "display_data",
          "data": {
            "application/vnd.jupyter.widget-view+json": {
              "model_id": "a50f24f7c9da4200be9bb3c583d745eb",
              "version_minor": 0,
              "version_major": 2
            },
            "text/plain": [
              "HBox(children=(FloatProgress(value=0.0, description='persistent experiementing...', max=3.0, style=ProgressSty…"
            ]
          },
          "metadata": {
            "tags": []
          }
        },
        {
          "output_type": "stream",
          "text": [
            "/usr/local/lib/python3.7/dist-packages/ipykernel_launcher.py:85: UserWarning: To copy construct from a tensor, it is recommended to use sourceTensor.clone().detach() or sourceTensor.clone().detach().requires_grad_(True), rather than torch.tensor(sourceTensor).\n"
          ],
          "name": "stderr"
        },
        {
          "output_type": "stream",
          "text": [
            "\n",
            "[-5.7296276, -5.7296276, -5.7296276]\n",
            "[-2.7430747, -2.1147351, -2.0211172]\n"
          ],
          "name": "stdout"
        }
      ]
    },
    {
      "cell_type": "code",
      "metadata": {
        "colab": {
          "base_uri": "https://localhost:8080/",
          "height": 771
        },
        "id": "JuSAvoY2oQyG",
        "outputId": "1bc430a0-7db9-4842-948e-3950eb48a5d3"
      },
      "source": [
        "visualize_batched(x)\n",
        "visualize_batched(cleaned_x_long(x, loss_target_mask))\n",
        "\n",
        "\n",
        "loss = t_loss_f(x)\n",
        "plot_loss_diff(loss)"
      ],
      "execution_count": 65,
      "outputs": [
        {
          "output_type": "display_data",
          "data": {
            "image/png": "[encoded data removed]",
            "text/plain": [
              "<Figure size 432x288 with 1 Axes>"
            ]
          },
          "metadata": {
            "tags": [],
            "needs_background": "light"
          }
        },
        {
          "output_type": "display_data",
          "data": {
            "image/png": "[encoded data removed]",
            "text/plain": [
              "<Figure size 432x288 with 1 Axes>"
            ]
          },
          "metadata": {
            "tags": [],
            "needs_background": "light"
          }
        },
        {
          "output_type": "display_data",
          "data": {
            "image/png": "[encoded data removed]",
            "text/plain": [
              "<Figure size 432x288 with 2 Axes>"
            ]
          },
          "metadata": {
            "tags": [],
            "needs_background": "light"
          }
        }
      ]
    }
  ]
}